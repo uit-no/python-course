{
 "cells": [
  {
   "cell_type": "markdown",
   "metadata": {
    "slideshow": {
     "slide_type": "slide"
    }
   },
   "source": [
    "## Organizing Code\n",
    "\n",
    "Keeping your code:\n",
    "\n",
    "* readable\n",
    "* correct\n",
    "* robust\n",
    "* maintainable\n",
    "\n",
    "Most of this talk this applies to any language."
   ]
  },
  {
   "cell_type": "markdown",
   "metadata": {
    "slideshow": {
     "slide_type": "slide"
    }
   },
   "source": [
    "## Don't Repeat Yourself (DRY)\n",
    "\n",
    "* don't copy and paste code\n",
    "* when you see repetition, it might be time for a function\n",
    "* generate large tables instead of hardcoding them\n",
    "\n",
    "From Wikipedia:\n",
    "\n",
    "> Violations of DRY are typically referred to as WET solutions, which is commonly taken to stand for either \"write everything twice\", \"we enjoy typing\" or \"waste everyone's time\"."
   ]
  },
  {
   "cell_type": "markdown",
   "metadata": {
    "slideshow": {
     "slide_type": "slide"
    }
   },
   "source": [
    "## Don't Contort Yourself\n",
    "\n",
    "To avoid this repetition:\n",
    "\n",
    "```python\n",
    "MODES = {\n",
    "    'stopped': 0,\n",
    "    'playing': 1,\n",
    "    'recording': 3,\n",
    "    0: 'stopped',\n",
    "    1: 'playing',\n",
    "    3: 'recording',\n",
    "}\n",
    "```\n",
    "\n",
    "you could add code that adds the flipped values:\n",
    "\n",
    "```python\n",
    "MODES = {\n",
    "    'stopped': 0,\n",
    "    'playing': 1,\n",
    "    'recording': 3,\n",
    "}\n",
    "# Add reverse lookup.\n",
    "MODES.update({value: name for name, value in MODES.items()})\n",
    "```\n",
    "\n",
    "but it's not worth it for such a small table. Now there's code to understand. (You can always add it if the table grows.)\n"
   ]
  }
 ],
 "metadata": {
  "celltoolbar": "Slideshow",
  "kernelspec": {
   "display_name": "Python 3",
   "language": "python",
   "name": "python3"
  },
  "language_info": {
   "codemirror_mode": {
    "name": "ipython",
    "version": 3
   },
   "file_extension": ".py",
   "mimetype": "text/x-python",
   "name": "python",
   "nbconvert_exporter": "python",
   "pygments_lexer": "ipython3",
   "version": "3.4.3+"
  }
 },
 "nbformat": 4,
 "nbformat_minor": 0
}
