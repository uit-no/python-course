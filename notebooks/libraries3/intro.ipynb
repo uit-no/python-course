{
 "cells": [
  {
   "cell_type": "markdown",
   "metadata": {},
   "source": [
    "# Scientific libraries"
   ]
  },
  {
   "cell_type": "markdown",
   "metadata": {},
   "source": [
    "## [Scientific Python](http://scipy.org)"
   ]
  },
  {
   "cell_type": "markdown",
   "metadata": {},
   "source": [
    "The full SciPy stack contains a lot of packages, we will concentrate on some of the core packages\n",
    "\n",
    "- Python\n",
    "- NumPy\n",
    "- SciPy library\n",
    "- Matplotlib\n",
    "- pandas\n",
    "- SymPy\n",
    "- Ipython\n",
    "- nose"
   ]
  },
  {
   "cell_type": "markdown",
   "metadata": {},
   "source": [
    "### [Numerical Python](http://numpy.org/)\n",
    "\n",
    "- Efficient homogenous N-dimensional arrays\n",
    "- Faster and more compact than standard Python lists\n",
    "- Advanced indexing\n",
    "- Universal functions (ufunc) provides \"vectorization\"\n",
    "- Fast matrix operations if compiled and linked with BLAS/LAPACK libraries"
   ]
  },
  {
   "cell_type": "markdown",
   "metadata": {
    "collapsed": true
   },
   "source": [
    "### SciPy core library\n",
    "\n",
    "- File input/output: scipy.io\n",
    "- Special functions: scipy.special\n",
    "- Linear algebra operations: scipy.linalg\n",
    "- Fast Fourier transforms: scipy.fftpack\n",
    "- Optimization and fit: scipy.optimize\n",
    "- Statistics and random numbers: scipy.stats\n",
    "- Interpolation: scipy.interpolate\n",
    "- Numerical integration: scipy.integrate\n",
    "- Signal processing: scipy.signal\n",
    "- Image processing: scipy.ndimage\n",
    "- and more"
   ]
  },
  {
   "cell_type": "markdown",
   "metadata": {},
   "source": [
    "### [Matplotlib](http://matplotlib.org/)\n",
    "\n",
    "- 2D plotting library with support for many different types of plots\n",
    "- For simple plotting *pyplot* provides a MATLAB-like interface"
   ]
  },
  {
   "cell_type": "markdown",
   "metadata": {},
   "source": [
    "### [Pandas](http://pandas.pydata.org/)\n",
    "\n",
    "- Data analysis library\n",
    "- Provides a table-like data structure: the dataframe\n",
    "- Based on NumPy arrays\n",
    "- Each column can have a different type\n",
    "- Can import and export to many convenient formats\n",
    "- Pivot tables\n",
    "- Basic statistical functions"
   ]
  },
  {
   "cell_type": "markdown",
   "metadata": {},
   "source": [
    "### [SymPy](http://www.sympy.org)\n",
    "\n",
    "- SymPy is a Python library for symbolic mathematics\n",
    "- Pure Python light-weight Mathematica replacement\n",
    "- Try it [live](http://live.sympy.org/) in the browser\n",
    "- There is also [Sage](http://www.sagemath.org/)"
   ]
  },
  {
   "cell_type": "markdown",
   "metadata": {},
   "source": [
    "### [Ipython](https://ipython.org/)\n",
    "\n",
    "- Powerful interactive shell for the terminal\n",
    "- Notebook interface that runs directly in the browser\n",
    "- Inline graphics\n",
    "- Extensions to provide additional features\n",
    "- Also see [Jupyter Notebook](http://jupyter.org/)"
   ]
  },
  {
   "cell_type": "markdown",
   "metadata": {},
   "source": [
    "## More plotting libraries"
   ]
  },
  {
   "cell_type": "markdown",
   "metadata": {},
   "source": [
    "- [Seaborn](https://stanford.edu/~mwaskom/software/seaborn/): high level interface based on matplotlib\n",
    "- [Bokeh](http://bokeh.pydata.org): interactive plots in the browser in the style of [D3.js](https://d3js.org/)\n",
    "- [PlotLy](https://plot.ly/python) python API: interactive plots in the browser base on D3.js"
   ]
  },
  {
   "cell_type": "code",
   "execution_count": null,
   "metadata": {
    "collapsed": true
   },
   "outputs": [],
   "source": []
  }
 ],
 "metadata": {
  "kernelspec": {
   "display_name": "Python 3",
   "language": "python",
   "name": "python3"
  },
  "language_info": {
   "codemirror_mode": {
    "name": "ipython",
    "version": 3
   },
   "file_extension": ".py",
   "mimetype": "text/x-python",
   "name": "python",
   "nbconvert_exporter": "python",
   "pygments_lexer": "ipython3",
   "version": "3.5.1"
  }
 },
 "nbformat": 4,
 "nbformat_minor": 0
}
