{
 "cells": [
  {
   "cell_type": "markdown",
   "metadata": {},
   "source": [
    "# Scientific libraries"
   ]
  },
  {
   "cell_type": "markdown",
   "metadata": {},
   "source": [
    "## Scientific Python (http://scipy.org)"
   ]
  },
  {
   "cell_type": "markdown",
   "metadata": {},
   "source": [
    "The full SciPy stack contains a lot of packages, we will concentrate on some of the core packages\n",
    "\n",
    "- Python\n",
    "- NumPy\n",
    "- SciPy library\n",
    "- Matplotlib\n",
    "- pandas\n",
    "- SymPy\n",
    "- Ipython\n",
    "- nose"
   ]
  },
  {
   "cell_type": "markdown",
   "metadata": {},
   "source": [
    "### Numerical Python"
   ]
  },
  {
   "cell_type": "markdown",
   "metadata": {},
   "source": [
    "- [NumPy] (http://numpy.org/)\n",
    "- Efficient homogenous N-dimensional arrays\n",
    "- Faster and more compact than standard Python lists\n",
    "- Advanced indexing\n",
    "- Universial functions (ufunc) provides \"vectorization\"\n",
    "- Bindings to efficient linear algebra routines"
   ]
  },
  {
   "cell_type": "markdown",
   "metadata": {
    "collapsed": true
   },
   "source": [
    "### SciPy library"
   ]
  },
  {
   "cell_type": "markdown",
   "metadata": {},
   "source": [
    "- Linear algebra\n",
    "- Fourier analysis\n",
    "- Differential equations\n",
    "- Optimization\n",
    "- many more"
   ]
  },
  {
   "cell_type": "markdown",
   "metadata": {},
   "source": [
    "### Pandas\n",
    "\n",
    "- Provides a new table structre: the dataframe\n",
    "- Each column can have a different type\n",
    "- Based on NumPy arrays\n",
    "- Can import and export to many convenient formats\n",
    "- Pivot tables\n",
    "- Basic statistical functions"
   ]
  },
  {
   "cell_type": "markdown",
   "metadata": {},
   "source": [
    "### SymPy\n",
    "\n",
    "- SymPy is a Python library for symbolic mathematics\n",
    "- Pure Python light-weight Mathematica replacement\n",
    "- There is also"
   ]
  },
  {
   "cell_type": "markdown",
   "metadata": {},
   "source": [
    "### Ipython\n",
    "\n",
    "- Powerful interactive shell\n",
    "- Alse see "
   ]
  },
  {
   "cell_type": "markdown",
   "metadata": {},
   "source": [
    "## More plotting libraries"
   ]
  },
  {
   "cell_type": "markdown",
   "metadata": {},
   "source": [
    "- Bokeh\n",
    "- PlotLy"
   ]
  },
  {
   "cell_type": "code",
   "execution_count": null,
   "metadata": {
    "collapsed": true
   },
   "outputs": [],
   "source": []
  }
 ],
 "metadata": {
  "kernelspec": {
   "display_name": "Python 3",
   "language": "python",
   "name": "python3"
  },
  "language_info": {
   "codemirror_mode": {
    "name": "ipython",
    "version": 3
   },
   "file_extension": ".py",
   "mimetype": "text/x-python",
   "name": "python",
   "nbconvert_exporter": "python",
   "pygments_lexer": "ipython3",
   "version": "3.5.1"
  }
 },
 "nbformat": 4,
 "nbformat_minor": 0
}
