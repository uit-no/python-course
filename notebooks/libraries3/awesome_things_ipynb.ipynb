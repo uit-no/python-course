{
 "cells": [
  {
   "cell_type": "code",
   "execution_count": null,
   "metadata": {
    "collapsed": false
   },
   "outputs": [],
   "source": [
    "import time\n",
    "import platform\n",
    "print('Last updated: %s' %time.strftime('%d/%m/%Y'))\n",
    "print('Created using Python', platform.python_version())"
   ]
  },
  {
   "cell_type": "markdown",
   "metadata": {},
   "source": [
    "# Awesome things that you can do in IPython Notebooks (in progress) from Sebastian Raschka"
   ]
  },
  {
   "cell_type": "markdown",
   "metadata": {},
   "source": [
    "<br>\n",
    "<br>"
   ]
  },
  {
   "cell_type": "markdown",
   "metadata": {},
   "source": [
    "## Writing local files"
   ]
  },
  {
   "cell_type": "code",
   "execution_count": null,
   "metadata": {
    "collapsed": false
   },
   "outputs": [],
   "source": [
    "%%file hello.py\n",
    "def func_inside_script(x, y):\n",
    "    return x + y\n",
    "print('Hello World')"
   ]
  },
  {
   "cell_type": "markdown",
   "metadata": {},
   "source": [
    "<br>\n",
    "<br>"
   ]
  },
  {
   "cell_type": "markdown",
   "metadata": {},
   "source": [
    "## Running Python scripts"
   ]
  },
  {
   "cell_type": "markdown",
   "metadata": {},
   "source": [
    "We can run Python scripts in IPython via the %run magic command. For example, the Python script that we created in the [Writing local files](#Writing-local-files) section."
   ]
  },
  {
   "cell_type": "code",
   "execution_count": null,
   "metadata": {
    "collapsed": false
   },
   "outputs": [],
   "source": [
    "%run hello.py"
   ]
  },
  {
   "cell_type": "code",
   "execution_count": null,
   "metadata": {
    "collapsed": false
   },
   "outputs": [],
   "source": [
    "func_inside_script(1, 2)"
   ]
  },
  {
   "cell_type": "markdown",
   "metadata": {},
   "source": [
    "<br>\n",
    "<br>"
   ]
  },
  {
   "cell_type": "markdown",
   "metadata": {},
   "source": [
    "## Benchmarking"
   ]
  },
  {
   "cell_type": "code",
   "execution_count": null,
   "metadata": {
    "collapsed": false
   },
   "outputs": [],
   "source": [
    "%timeit [x**2 for x in range(100)] "
   ]
  },
  {
   "cell_type": "code",
   "execution_count": null,
   "metadata": {
    "collapsed": false
   },
   "outputs": [],
   "source": [
    "%timeit -r 5 -n 100 [x**2 for x in range(100)] "
   ]
  },
  {
   "cell_type": "markdown",
   "metadata": {},
   "source": [
    "<br>\n",
    "<br>"
   ]
  },
  {
   "cell_type": "markdown",
   "metadata": {},
   "source": [
    "## Using system shell commands"
   ]
  },
  {
   "cell_type": "markdown",
   "metadata": {},
   "source": [
    "By prepending a \"`!`\" we can conveniently execute most of the system shell commands, below are just a few examples."
   ]
  },
  {
   "cell_type": "code",
   "execution_count": null,
   "metadata": {
    "collapsed": false
   },
   "outputs": [],
   "source": [
    "my_dir = 'new_dir'\n",
    "!mkdir $my_dir\n",
    "!pwd\n",
    "!touch $my_dir'/some.txt'\n",
    "!ls -l './new_dir'\n",
    "!ls -l $my_dir | wc -l"
   ]
  },
  {
   "cell_type": "markdown",
   "metadata": {},
   "source": [
    "<br>\n",
    "<br>"
   ]
  },
  {
   "cell_type": "markdown",
   "metadata": {},
   "source": [
    "## Debugging"
   ]
  },
  {
   "cell_type": "code",
   "execution_count": null,
   "metadata": {
    "collapsed": false
   },
   "outputs": [],
   "source": [
    "def some_func():\n",
    "    var = 'hello world'\n",
    "    for i in range(5):\n",
    "        print(i)\n",
    "    i / 0\n",
    "    return 'finished'"
   ]
  },
  {
   "cell_type": "code",
   "execution_count": null,
   "metadata": {
    "collapsed": false
   },
   "outputs": [],
   "source": [
    "%debug\n",
    "some_func()"
   ]
  },
  {
   "cell_type": "markdown",
   "metadata": {},
   "source": [
    "<br>\n",
    "<br>"
   ]
  },
  {
   "cell_type": "markdown",
   "metadata": {},
   "source": [
    "## Inline Plotting with matplotlib"
   ]
  },
  {
   "cell_type": "code",
   "execution_count": null,
   "metadata": {
    "collapsed": false
   },
   "outputs": [],
   "source": [
    "%matplotlib inline"
   ]
  },
  {
   "cell_type": "code",
   "execution_count": null,
   "metadata": {
    "collapsed": false
   },
   "outputs": [],
   "source": [
    "import numpy as np\n",
    "from matplotlib import pyplot as plt\n",
    "import math\n",
    "\n",
    "def pdf(x, mu=0, sigma=1):\n",
    "    \"\"\"Calculates the normal distribution's probability density \n",
    "        function (PDF).  \n",
    "        \n",
    "    \"\"\"\n",
    "    term1 = 1.0 / ( math.sqrt(2*np.pi) * sigma )\n",
    "    term2 = np.exp( -0.5 * ( (x-mu)/sigma )**2 )\n",
    "    return term1 * term2\n",
    "\n",
    "\n",
    "x = np.arange(0, 100, 0.05)\n",
    "\n",
    "pdf1 = pdf(x, mu=5, sigma=2.5**0.5)\n",
    "pdf2 = pdf(x, mu=10, sigma=6**0.5)\n",
    "\n",
    "plt.plot(x, pdf1)\n",
    "plt.plot(x, pdf2)\n",
    "plt.title('Probability Density Functions')\n",
    "plt.ylabel('p(x)')\n",
    "plt.xlabel('random variable x')\n",
    "plt.legend(['pdf1 ~ N($\\mu=5$, $\\sigma=2.5$)', 'pdf2 ~ N($\\mu=10$, $\\sigma=6$)'], loc='upper right')\n",
    "plt.ylim([0,0.5])\n",
    "plt.xlim([0,20])\n",
    "\n",
    "plt.show()"
   ]
  },
  {
   "cell_type": "markdown",
   "metadata": {},
   "source": [
    "<br>\n",
    "<br>"
   ]
  },
  {
   "cell_type": "markdown",
   "metadata": {},
   "source": [
    "## C-extensions via the Cython magic"
   ]
  },
  {
   "cell_type": "markdown",
   "metadata": {},
   "source": [
    "Cython (see [Cython's C-extensions for Python](http://cython.org)) is basically a hybrid between C and Python and can be pictured as compiled Python code with type declarations.\n",
    "Since we are working in an IPython notebook here, we can make use of the very convenient IPython magic: It will take care of the conversion to C code, the compilation, and eventually the loading of the function.\n",
    "Also, we are adding C type declarations; those type declarations are not necessary for using Cython, however, it will improve the performance of our code significantly."
   ]
  },
  {
   "cell_type": "code",
   "execution_count": null,
   "metadata": {
    "collapsed": false
   },
   "outputs": [],
   "source": [
    "%load_ext cythonmagic"
   ]
  },
  {
   "cell_type": "code",
   "execution_count": null,
   "metadata": {
    "collapsed": false
   },
   "outputs": [],
   "source": [
    "%%cython\n",
    "import numpy as np\n",
    "cimport numpy as np\n",
    "cimport cython\n",
    "@cython.boundscheck(False) \n",
    "@cython.wraparound(False)\n",
    "@cython.cdivision(True)\n",
    "cpdef cython_lstsqr(x_ary, y_ary):\n",
    "    \"\"\" Computes the least-squares solution to a linear matrix equation. \"\"\"\n",
    "    cdef double x_avg, y_avg, var_x, cov_xy,\\\n",
    "         slope, y_interc, temp\n",
    "    cdef double[:] x = x_ary # memoryview\n",
    "    cdef double[:] y = y_ary\n",
    "    cdef unsigned long N, i\n",
    "    \n",
    "    N = x.shape[0]\n",
    "    x_avg = 0\n",
    "    y_avg = 0\n",
    "    for i in range(N):\n",
    "        x_avg += x[i]\n",
    "        y_avg += y[i]\n",
    "    x_avg = x_avg/N\n",
    "    y_avg = y_avg/N\n",
    "    var_x = 0\n",
    "    cov_xy = 0\n",
    "    for i in range(N):\n",
    "        temp = (x[i] - x_avg)\n",
    "        var_x += temp**2\n",
    "        cov_xy += temp*(y[i] - y_avg)\n",
    "    slope = cov_xy / var_x\n",
    "    y_interc = y_avg - slope*x_avg\n",
    "    return (slope, y_interc)"
   ]
  },
  {
   "cell_type": "code",
   "execution_count": null,
   "metadata": {
    "collapsed": false
   },
   "outputs": [],
   "source": [
    "import numpy as np\n",
    "\n",
    "x_ary = np.array([x_i*np.random.randint(8,12)/10 for x_i in range(100)])\n",
    "y_ary = np.array([y_i*np.random.randint(10,14)/10 for y_i in range(100)])"
   ]
  },
  {
   "cell_type": "code",
   "execution_count": null,
   "metadata": {
    "collapsed": false
   },
   "outputs": [],
   "source": [
    "cython_lstsqr(x_ary, y_ary)"
   ]
  },
  {
   "cell_type": "markdown",
   "metadata": {},
   "source": [
    "<br>\n",
    "<br>"
   ]
  },
  {
   "cell_type": "markdown",
   "metadata": {},
   "source": [
    "## Running Fortran Code"
   ]
  },
  {
   "cell_type": "markdown",
   "metadata": {},
   "source": [
    "There is also a convenient IPython magic command for compiling Fortran code. The Fortran magic uses NumPy's [F2PY](http://www.f2py.com) module for compiling and running the Fortran code. For more information, please see the ['Fortran magic's documentation'](http://nbviewer.ipython.org/github/mgaitan/fortran_magic/blob/master/documentation.ipynb)."
   ]
  },
  {
   "cell_type": "code",
   "execution_count": null,
   "metadata": {
    "collapsed": false
   },
   "outputs": [],
   "source": [
    "%install_ext https://raw.github.com/mgaitan/fortran_magic/master/fortranmagic.py"
   ]
  },
  {
   "cell_type": "code",
   "execution_count": null,
   "metadata": {
    "collapsed": false
   },
   "outputs": [],
   "source": [
    "%load_ext fortranmagic"
   ]
  },
  {
   "cell_type": "code",
   "execution_count": null,
   "metadata": {
    "collapsed": false
   },
   "outputs": [],
   "source": [
    "%%fortran\n",
    "SUBROUTINE fortran_lstsqr(ary_x, ary_y, slope, y_interc)\n",
    "    ! Computes the least-squares solution to a linear matrix equation. \"\"\"\n",
    "    IMPLICIT NONE\n",
    "    REAL(8), INTENT(in), DIMENSION(:) :: ary_x, ary_y\n",
    "    REAL(8), INTENT(out) :: slope, y_interc\n",
    "    REAL(8) :: x_avg, y_avg, var_x, cov_xy, temp\n",
    "    INTEGER(8) :: N, i\n",
    "    \n",
    "    N = SIZE(ary_x)\n",
    "\n",
    "    x_avg = SUM(ary_x) / N\n",
    "    y_avg = SUM(ary_y) / N\n",
    "    var_x = 0\n",
    "    cov_xy = 0\n",
    "    \n",
    "    DO i = 1, N\n",
    "        temp = ary_x(i) - x_avg\n",
    "        var_x = var_x + temp**2\n",
    "        cov_xy = cov_xy + (temp*(ary_y(i) - y_avg))\n",
    "    END DO\n",
    "    \n",
    "    slope = cov_xy / var_x\n",
    "    y_interc = y_avg - slope*x_avg\n",
    "\n",
    "END SUBROUTINE fortran_lstsqr"
   ]
  },
  {
   "cell_type": "code",
   "execution_count": null,
   "metadata": {
    "collapsed": false
   },
   "outputs": [],
   "source": [
    "import numpy as np\n",
    "\n",
    "x_ary = np.array([x_i*np.random.randint(8,12)/10 for x_i in range(100)])\n",
    "y_ary = np.array([y_i*np.random.randint(10,14)/10 for y_i in range(100)])"
   ]
  },
  {
   "cell_type": "code",
   "execution_count": null,
   "metadata": {
    "collapsed": false
   },
   "outputs": [],
   "source": [
    "fortran_lstsqr(x_ary, y_ary)"
   ]
  },
  {
   "cell_type": "markdown",
   "metadata": {},
   "source": [
    "<br>\n",
    "<br>"
   ]
  },
  {
   "cell_type": "code",
   "execution_count": null,
   "metadata": {
    "collapsed": false
   },
   "outputs": [],
   "source": [
    "%%bash\n",
    "echo \"Hello World!\""
   ]
  }
 ],
 "metadata": {
  "kernelspec": {
   "display_name": "Python 3",
   "language": "python",
   "name": "python3"
  },
  "language_info": {
   "codemirror_mode": {
    "name": "ipython",
    "version": 3
   },
   "file_extension": ".py",
   "mimetype": "text/x-python",
   "name": "python",
   "nbconvert_exporter": "python",
   "pygments_lexer": "ipython3",
   "version": "3.5.1"
  }
 },
 "nbformat": 4,
 "nbformat_minor": 0
}
