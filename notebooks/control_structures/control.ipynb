{
 "cells": [
  {
   "cell_type": "markdown",
   "metadata": {},
   "source": [
    "## Generators\n",
    "\n",
    "But what if you have millions of lines?"
   ]
  },
  {
   "cell_type": "code",
   "execution_count": null,
   "metadata": {
    "collapsed": true
   },
   "outputs": [],
   "source": [
    "# for line in file:\n",
    "\n",
    "# For msg in port:\n",
    "\n",
    "# For row in db_cursor:"
   ]
  },
  {
   "cell_type": "code",
   "execution_count": 17,
   "metadata": {
    "collapsed": false
   },
   "outputs": [
    {
     "name": "stdout",
     "output_type": "stream",
     "text": [
      "I'll be back.\n",
      "\n",
      "Frankly, my dear, I don't give a damn.\n",
      "\n",
      "Roads? Where we're going we don't need roads.\n",
      "\n"
     ]
    }
   ],
   "source": [
    "# Files have a generator that loops over lines.\n",
    "for line in open('files/movie_quotes.txt'):\n",
    "    print(line)"
   ]
  },
  {
   "cell_type": "markdown",
   "metadata": {},
   "source": [
    "Generators allow you to iterate over infinite sequences."
   ]
  },
  {
   "cell_type": "code",
   "execution_count": 16,
   "metadata": {
    "collapsed": false
   },
   "outputs": [
    {
     "ename": "NameError",
     "evalue": "name 'iter_input' is not defined",
     "output_type": "error",
     "traceback": [
      "\u001b[1;31m---------------------------------------------------------------------------\u001b[0m",
      "\u001b[1;31mNameError\u001b[0m                                 Traceback (most recent call last)",
      "\u001b[1;32m<ipython-input-16-ddfb19fa530a>\u001b[0m in \u001b[0;36m<module>\u001b[1;34m()\u001b[0m\n\u001b[0;32m      5\u001b[0m     \u001b[1;32myield\u001b[0m \u001b[1;32mfrom\u001b[0m \u001b[1;33m[\u001b[0m\u001b[1;34m'These'\u001b[0m\u001b[1;33m,\u001b[0m \u001b[1;34m'are'\u001b[0m\u001b[1;33m,\u001b[0m \u001b[1;34m'lines'\u001b[0m\u001b[1;33m]\u001b[0m\u001b[1;33m\u001b[0m\u001b[0m\n\u001b[0;32m      6\u001b[0m \u001b[1;33m\u001b[0m\u001b[0m\n\u001b[1;32m----> 7\u001b[1;33m \u001b[1;32mfor\u001b[0m \u001b[0mline\u001b[0m \u001b[1;32min\u001b[0m \u001b[0miter_input\u001b[0m\u001b[1;33m(\u001b[0m\u001b[1;33m)\u001b[0m\u001b[1;33m:\u001b[0m\u001b[1;33m\u001b[0m\u001b[0m\n\u001b[0m\u001b[0;32m      8\u001b[0m     \u001b[0mprint\u001b[0m\u001b[1;33m(\u001b[0m\u001b[0mline\u001b[0m\u001b[1;33m,\u001b[0m \u001b[1;34m'backwards is'\u001b[0m\u001b[1;33m,\u001b[0m \u001b[0mline\u001b[0m\u001b[1;33m[\u001b[0m\u001b[1;33m:\u001b[0m\u001b[1;33m:\u001b[0m\u001b[1;33m-\u001b[0m\u001b[1;36m1\u001b[0m\u001b[1;33m]\u001b[0m\u001b[1;33m)\u001b[0m\u001b[1;33m\u001b[0m\u001b[0m\n\u001b[0;32m      9\u001b[0m     \u001b[0mprint\u001b[0m\u001b[1;33m(\u001b[0m\u001b[1;33m)\u001b[0m\u001b[1;33m\u001b[0m\u001b[0m\n",
      "\u001b[1;31mNameError\u001b[0m: name 'iter_input' is not defined"
     ]
    }
   ],
   "source": [
    "# Todo: find a good example.\n",
    "# (A loop with input() doesn't work well with Jupyter.)\n",
    "\n",
    "def user_input():\n",
    "    yield from ['These', 'are', 'lines']\n",
    "\n",
    "for line in iter_input():\n",
    "    print(line, 'backwards is', line[::-1])\n",
    "    print()\n",
    "    \n",
    "print('*quit*')\n"
   ]
  },
  {
   "cell_type": "code",
   "execution_count": 5,
   "metadata": {
    "collapsed": false
   },
   "outputs": [
    {
     "name": "stdout",
     "output_type": "stream",
     "text": [
      "1\n",
      "2\n",
      "3\n"
     ]
    }
   ],
   "source": [
    "def integers():\n",
    "    yield from [1, 2, 3]\n",
    "\n",
    "for n in integers():\n",
    "    print(n)"
   ]
  },
  {
   "cell_type": "code",
   "execution_count": 3,
   "metadata": {
    "collapsed": true
   },
   "outputs": [],
   "source": [
    "# Todo: converting to lists\n",
    "#    lines = list(gen)\n",
    "#    iter(something)\n"
   ]
  },
  {
   "cell_type": "markdown",
   "metadata": {
    "collapsed": true
   },
   "source": [
    "## List Comprehensions\n",
    "\n",
    "A more convenient way to write loops"
   ]
  },
  {
   "cell_type": "code",
   "execution_count": 18,
   "metadata": {
    "collapsed": false
   },
   "outputs": [
    {
     "name": "stdout",
     "output_type": "stream",
     "text": [
      "[\"I'LL BE BACK.\", \"FRANKLY, MY DEAR, I DON'T GIVE A DAMN.\", \"ROADS? WHERE WE'RE GOING WE DON'T NEED ROADS.\"]\n"
     ]
    }
   ],
   "source": [
    "lines = []\n",
    "for line in open('files/movie_quotes.txt'):\n",
    "    lines.append(line.strip().upper())\n",
    "    \n",
    "print(lines)\n"
   ]
  },
  {
   "cell_type": "code",
   "execution_count": 19,
   "metadata": {
    "collapsed": false
   },
   "outputs": [
    {
     "name": "stdout",
     "output_type": "stream",
     "text": [
      "[\"I'LL BE BACK.\", \"FRANKLY, MY DEAR, I DON'T GIVE A DAMN.\", \"ROADS? WHERE WE'RE GOING WE DON'T NEED ROADS.\"]\n"
     ]
    }
   ],
   "source": [
    "# With a list comprehension:\n",
    "lines = [line.strip().upper() for line in open('files/movie_quotes.txt')]\n",
    "\n",
    "print(lines)"
   ]
  },
  {
   "cell_type": "markdown",
   "metadata": {},
   "source": [
    "## Generator Comprehensions\n",
    "\n",
    "Convenient way to write a generator.\n"
   ]
  },
  {
   "cell_type": "code",
   "execution_count": 21,
   "metadata": {
    "collapsed": false
   },
   "outputs": [
    {
     "name": "stdout",
     "output_type": "stream",
     "text": [
      "I'll be back.\n",
      "Frankly, my dear, I don't give a damn.\n",
      "Roads? Where we're going we don't need roads.\n",
      "Extra line 1\n",
      "Extra line 2\n"
     ]
    }
   ],
   "source": [
    "def print_lines(lines):\n",
    "    for line in lines:\n",
    "        print(line)\n",
    "    \n",
    "file = open('files/movie_quotes.txt')\n",
    "gen = (line.strip() for line in file)\n",
    "print_lines(gen)\n",
    "print_lines(['Extra line 1', 'Extra line 2'])\n"
   ]
  },
  {
   "cell_type": "markdown",
   "metadata": {},
   "source": [
    "## Dictionary Comprehensions"
   ]
  },
  {
   "cell_type": "code",
   "execution_count": 22,
   "metadata": {
    "collapsed": false,
    "scrolled": true
   },
   "outputs": [
    {
     "name": "stdout",
     "output_type": "stream",
     "text": [
      "{'quick': 5, 'python': 6, 'the': 3, 'brown': 5}\n"
     ]
    }
   ],
   "source": [
    "words = ['the', 'quick', 'brown', 'python']\n",
    "counts = {word: len(word) for word in words}\n",
    "print(counts)"
   ]
  },
  {
   "cell_type": "markdown",
   "metadata": {},
   "source": [
    "## Higher order functions"
   ]
  },
  {
   "cell_type": "markdown",
   "metadata": {},
   "source": [
    "## Decorators"
   ]
  },
  {
   "cell_type": "markdown",
   "metadata": {},
   "source": [
    "## Functional Style\n",
    "\n",
    "``map()``, ``filter()``, ``reduce()`` and ``partial()``"
   ]
  },
  {
   "cell_type": "code",
   "execution_count": 23,
   "metadata": {
    "collapsed": false
   },
   "outputs": [
    {
     "name": "stdout",
     "output_type": "stream",
     "text": [
      "!\n",
      "A\n",
      "wef\n",
      "sdrow\n"
     ]
    }
   ],
   "source": [
    "print('!')\n",
    "\n",
    "def reverse(word):\n",
    "    return word[::-1]\n",
    "\n",
    "for rev in map(reverse, ['A', 'few', 'words']):\n",
    "    print(rev)\n"
   ]
  },
  {
   "cell_type": "code",
   "execution_count": 24,
   "metadata": {
    "collapsed": false
   },
   "outputs": [
    {
     "name": "stdout",
     "output_type": "stream",
     "text": [
      "A\n"
     ]
    }
   ],
   "source": [
    "def is_short(word):\n",
    "    return len(word) < 2\n",
    "\n",
    "for word in filter(is_short, ['A', 'few', 'words']):\n",
    "    print(word)\n"
   ]
  }
 ],
 "metadata": {
  "kernelspec": {
   "display_name": "Python 3",
   "language": "python",
   "name": "python3"
  },
  "language_info": {
   "codemirror_mode": {
    "name": "ipython",
    "version": 3
   },
   "file_extension": ".py",
   "mimetype": "text/x-python",
   "name": "python",
   "nbconvert_exporter": "python",
   "pygments_lexer": "ipython3",
   "version": "3.4.3+"
  }
 },
 "nbformat": 4,
 "nbformat_minor": 0
}
