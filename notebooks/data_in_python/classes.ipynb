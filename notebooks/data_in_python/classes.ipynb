{
 "cells": [
  {
   "cell_type": "markdown",
   "metadata": {
    "slideshow": {
     "slide_type": "slide"
    }
   },
   "source": [
    "# Classes in Python\n",
    "...and a bit in general, for those of you who haven't done any object-oriented programming yet.\n",
    "\n",
    "Lars Tiede"
   ]
  },
  {
   "cell_type": "markdown",
   "metadata": {
    "slideshow": {
     "slide_type": "slide"
    }
   },
   "source": [
    "## What is a class?"
   ]
  },
  {
   "cell_type": "markdown",
   "metadata": {
    "slideshow": {
     "slide_type": "fragment"
    }
   },
   "source": [
    "Many things :-/\n",
    "\n",
    "There are several ways to explain classes, some rather abstract and philosophical, others more practical."
   ]
  },
  {
   "cell_type": "markdown",
   "metadata": {
    "slideshow": {
     "slide_type": "fragment"
    }
   },
   "source": [
    "We don't have much time, so I go for *very* practical with a few examples."
   ]
  },
  {
   "cell_type": "markdown",
   "metadata": {
    "slideshow": {
     "slide_type": "slide"
    }
   },
   "source": [
    "## Classes by example: the class of pets\n",
    "\n",
    "A class is a description of data (\"attributes\") and behavior (\"methods\") of objects that are \"instances\" of it:"
   ]
  },
  {
   "cell_type": "code",
   "execution_count": 1,
   "metadata": {
    "collapsed": true,
    "slideshow": {
     "slide_type": "fragment"
    }
   },
   "outputs": [],
   "source": [
    "class Pet:\n",
    "    def __init__(self, name):\n",
    "        self.name = name\n",
    "        self.hunger = 0\n",
    "        self.age = 0\n",
    "        self.pets_met = set()\n",
    "        \n",
    "    def advance_time(self):\n",
    "        self.age += 1\n",
    "        self.hunger += 1\n",
    "        \n",
    "    def feed(self):\n",
    "        self.hunger = 0\n",
    "        \n",
    "    def meet(self, other_pet):\n",
    "        print(\"{} meets {}\".format(self.name, other_pet.name))\n",
    "        self.pets_met.add(other_pet)\n",
    "        other_pet.pets_met.add(self)\n",
    "        \n",
    "    def print_stats(self):\n",
    "        print(\"{o.name}, age {o.age}, hunger {o.hunger}, met {n} others\".\n",
    "             format(o = self, n = len(self.pets_met)))\n",
    "\n",
    "my_degu = Pet(\"Vitali\")"
   ]
  },
  {
   "cell_type": "markdown",
   "metadata": {
    "slideshow": {
     "slide_type": "notes"
    }
   },
   "source": [
    "This is how we can read the above code:\n",
    "\n",
    "* `my_degu` is an object: an instance of `Pet` (short: \"my_degu is a pet\").\n",
    "* `Pet` itself can be understood in several ways: for example as \"the concept of pet\", or \"the entirety of pets\", or \"the data type pet\".\n",
    "* `Pet` describes some properties and state of a pet (through the attributes `name`, `age`, `hunger`), and some behavior (the methods).\n",
    "* Every method's first parameter is a reference to the object itself. By convention, it is called \"self\".\n",
    "* `__init__` is a special method: the Python interpreter calls this method when a new Pet is created. The `__init__` method is called \"the constructor\" of the class.\n",
    "\n",
    "Let's do something with pets:"
   ]
  },
  {
   "cell_type": "code",
   "execution_count": 2,
   "metadata": {
    "collapsed": false,
    "slideshow": {
     "slide_type": "fragment"
    }
   },
   "outputs": [
    {
     "name": "stdout",
     "output_type": "stream",
     "text": [
      "Vitali meets Wladimir\n",
      "Vitali, age 11, hunger 0, met 1 others\n",
      "Wladimir, age 10, hunger 10, met 1 others\n"
     ]
    }
   ],
   "source": [
    "my_degu.advance_time()\n",
    "\n",
    "my_other_degu = Pet(\"Wladimir\")\n",
    "my_degu.meet(my_other_degu)\n",
    "\n",
    "for _ in range(10):\n",
    "    my_degu.advance_time()\n",
    "    my_other_degu.advance_time()\n",
    "\n",
    "for degu in [my_degu, my_other_degu]:\n",
    "    if degu.hunger > 10:\n",
    "        degu.feed()\n",
    "\n",
    "my_degu.print_stats()\n",
    "my_other_degu.print_stats()"
   ]
  },
  {
   "cell_type": "markdown",
   "metadata": {
    "slideshow": {
     "slide_type": "notes"
    }
   },
   "source": [
    "You see that you can use `my_degu` and `my_other_degu` like you have used any other objects before: by accessing attributes and methods usig \"`.`\", and by passing objects to functions as a value."
   ]
  },
  {
   "cell_type": "markdown",
   "metadata": {
    "slideshow": {
     "slide_type": "slide"
    }
   },
   "source": [
    "## Class attributes and class methods\n",
    "\n",
    "A class can not only describe data and behavior of its instances, but also of itself (\"the entirety of pets\", or \"the concept of pets\").\n",
    "\n",
    "We redefine the Pet class a bit:"
   ]
  },
  {
   "cell_type": "code",
   "execution_count": 3,
   "metadata": {
    "collapsed": true,
    "slideshow": {
     "slide_type": "fragment"
    }
   },
   "outputs": [],
   "source": [
    "class Pet:\n",
    "    population = set()\n",
    "    \n",
    "    def __init__(self, name):\n",
    "        self.name = name\n",
    "        self.hunger = 0\n",
    "        self.age = 0\n",
    "        self.pets_met = set()\n",
    "        self.__class__.population.add(self)\n",
    "        \n",
    "    def die(self):\n",
    "        print(\"{} dies :(\".format(self.name))\n",
    "        self.__class__.population.remove(self)\n",
    "        \n",
    "    def is_alive(self):\n",
    "        return self in self.__class__.population\n",
    "        \n",
    "    @classmethod\n",
    "    def advance_time(cls):\n",
    "        for pet in cls.population:\n",
    "            pet.age += 1\n",
    "            pet.hunger += 1\n",
    "        \n",
    "    def feed(self):\n",
    "        self.hunger = 0\n",
    "        \n",
    "    def meet(self, other_pet):\n",
    "        print(\"{} meets {}\".format(self.name, other_pet.name))\n",
    "        self.pets_met.add(other_pet)\n",
    "        other_pet.pets_met.add(self)\n",
    "        \n",
    "    def print_stats(self):\n",
    "        print(\"{o.name}, age {o.age}, hunger {o.hunger}, met {n} others\".\n",
    "             format(o = self, n = len(self.pets_met)))"
   ]
  },
  {
   "cell_type": "markdown",
   "metadata": {
    "slideshow": {
     "slide_type": "notes"
    }
   },
   "source": [
    "This is how we can read what is new and exciting about our redefined class:\n",
    "\n",
    "* `population` is a class attribute, i.e., it is defined on the class. `Pet.population` is the set of all pets. When a pet is created, it is added to the Pet population. When it `die()`s (a method we added), it is removed from the Pet population. For a given pet, we can check whether it's alive by calling `is_alive()`.\n",
    "* Unlike `population`, the other attributes are instance attributes. `Pet.name` does not exist, but `my_other_degu.name` does.\n",
    "* In instance methods like `__init__()` or `die()`, `self.__class__` refers to the class of self. We could just as well write `Pet` here, but it's better not to (mor on that later if we have time).\n",
    "* `advance_time` is now a \"class method\". Its first parameter is not an instance, but the class itself. The parameter is usually called \"cls\"."
   ]
  },
  {
   "cell_type": "code",
   "execution_count": 4,
   "metadata": {
    "collapsed": false,
    "slideshow": {
     "slide_type": "fragment"
    }
   },
   "outputs": [
    {
     "name": "stdout",
     "output_type": "stream",
     "text": [
      "There are 2 pets.\n",
      "Vitali dies :(\n",
      "There are 1 pets.\n",
      "Wladimir dies :(\n",
      "There are 0 pets.\n"
     ]
    }
   ],
   "source": [
    "my_degu = Pet(\"Vitali\")\n",
    "my_other_degu = Pet(\"Wladimir\")\n",
    "\n",
    "for _ in range(10):\n",
    "    Pet.advance_time()\n",
    "\n",
    "print(\"There are {} pets.\".format(len(Pet.population)))\n",
    "my_degu.die()\n",
    "print(\"There are {} pets.\".format(len(Pet.population)))\n",
    "my_other_degu.die()\n",
    "print(\"There are {} pets.\".format(len(Pet.population)))"
   ]
  },
  {
   "cell_type": "markdown",
   "metadata": {
    "slideshow": {
     "slide_type": "notes"
    }
   },
   "source": [
    "The only big change in the usage example compared to before is that instead of having to \"advance time\" for each pet individually, we now advance time for all pets in existence through our new class method."
   ]
  },
  {
   "cell_type": "markdown",
   "metadata": {
    "slideshow": {
     "slide_type": "slide"
    }
   },
   "source": [
    "## In Python, a class is an object\n",
    "\n",
    "In Python, almost everything is an object. So is a class:"
   ]
  },
  {
   "cell_type": "code",
   "execution_count": 5,
   "metadata": {
    "collapsed": false
   },
   "outputs": [
    {
     "name": "stdout",
     "output_type": "stream",
     "text": [
      "True\n",
      "True\n"
     ]
    }
   ],
   "source": [
    "print(isinstance(Pet, object))\n",
    "print(isinstance(my_degu, object))"
   ]
  },
  {
   "cell_type": "markdown",
   "metadata": {
    "slideshow": {
     "slide_type": "notes"
    }
   },
   "source": [
    "This might look a bit confusing at first, but it really isn't. We have already used object semantics on `Pet`, and you probably did not even blink at it. The use of \"`.`\" to address an attribute, for instance, or the fact that we called a class method on the `Pet` class *just like* we called an instance method on a pet.\n",
    "\n",
    "All you need to know is that you can shape a class and interact with a class in the same way as with any object. Like an object, a class has attributes holding data, and methods that you can call."
   ]
  },
  {
   "cell_type": "markdown",
   "metadata": {
    "slideshow": {
     "slide_type": "slide"
    }
   },
   "source": [
    "## Subclasses: the class of fishes\n",
    "\n",
    "One thing you can do with classes is to *specialize* them by defining subclasses. For example, we can define a special kind of pet:"
   ]
  },
  {
   "cell_type": "code",
   "execution_count": 6,
   "metadata": {
    "collapsed": true
   },
   "outputs": [],
   "source": [
    "class Fish(Pet):\n",
    "    def __init__(self, name, size):\n",
    "        self.size = size\n",
    "        super().__init__(name)\n",
    "        \n",
    "    def meet(self, other_fish):\n",
    "        super().meet(other_fish)\n",
    "        if not isinstance(other_fish, Fish):\n",
    "            return\n",
    "        if self.size > other_fish.size:\n",
    "            self.feed()\n",
    "            other_fish.die()\n",
    "        elif self.size < other_fish.size:\n",
    "            other_fish.feed()\n",
    "            self.die()"
   ]
  },
  {
   "cell_type": "markdown",
   "metadata": {
    "slideshow": {
     "slide_type": "notes"
    }
   },
   "source": [
    "Here's the rundown of what we did and what it means:\n",
    "\n",
    "* `Fish` is a \"subclass\" of `Pet`. This means that \"Fish is a Pet\". Technically, it means that `Fish` \"inherits\" all attributes and methods from `Pet`. You'll soon see what that means exactly.\n",
    "    * Nomenclature that is good to know: `Pet` is a \"superclass\" or \"ancestor\" of `Fish`. Since `Fish` is directly \"derived from\" `Pet`, `Pet` is also a \"parent\" or \"base class\" of `Fish`.\n",
    "* `Fish.__init__()` looks a little different than `Pet.__init__()`. There is an extra parameter, and `Fish.__init__()` *calls* `Pet.__init__()` through `super()`.\n",
    "* `super()` is the way to call a method in the parent class. It is a common pattern that a method that is \"overridden\" in a subclass (i.e. it exists in both subclass and superclass) calls `super()`. When `fish.f()` does the same as `pet.f()`, but..., then `fish.f()` probably calls `super().f()`.\n",
    "* A fish can meet another fish, with predictable results.\n",
    "\n",
    "Some code with fishes:"
   ]
  },
  {
   "cell_type": "code",
   "execution_count": 7,
   "metadata": {
    "collapsed": false,
    "slideshow": {
     "slide_type": "fragment"
    }
   },
   "outputs": [
    {
     "name": "stdout",
     "output_type": "stream",
     "text": [
      "There are 2 pets.\n",
      "sushi meets sharkie\n",
      "sushi dies :(\n",
      "There are 1 pets.\n"
     ]
    }
   ],
   "source": [
    "sushi = Fish(\"sushi\", 1)\n",
    "sharkie = Fish(\"sharkie\", 5)\n",
    "\n",
    "print(\"There are {} pets.\".format(len(Pet.population)))\n",
    "sushi.meet(sharkie)\n",
    "print(\"There are {} pets.\".format(len(Pet.population)))"
   ]
  },
  {
   "cell_type": "markdown",
   "metadata": {
    "slideshow": {
     "slide_type": "slide"
    }
   },
   "source": [
    "### Subclasses inherit attributes and methods from their ancestors\n",
    "\n",
    "`Fish` \"inherits\" all attributes and methods from `Pet`, which in turn inherits everything from `object` (implicitly).\n",
    "\n",
    "That means that all attributes and methods of `Pet` and `object` are visible in `Fish`, unless `Fish` makes an own attribute or method of the same name.\n",
    "\n",
    "That means that for example `Fish.population` is the same as `Pet.population`. \"The same as\" as in \"literally the same thing\"!"
   ]
  },
  {
   "cell_type": "code",
   "execution_count": 8,
   "metadata": {
    "collapsed": false
   },
   "outputs": [
    {
     "name": "stdout",
     "output_type": "stream",
     "text": [
      "140245423953736 140245423953736\n",
      "True\n"
     ]
    }
   ],
   "source": [
    "# id(obj) returns the memory address of obj\n",
    "print(id(Fish.population), id(Pet.population))\n",
    "print(id(Fish.population) == id(Pet.population))"
   ]
  },
  {
   "cell_type": "markdown",
   "metadata": {
    "slideshow": {
     "slide_type": "fragment"
    }
   },
   "source": [
    "Here's how that extends to methods (beware... technicalities ahead):"
   ]
  },
  {
   "cell_type": "code",
   "execution_count": 9,
   "metadata": {
    "collapsed": false
   },
   "outputs": [
    {
     "name": "stdout",
     "output_type": "stream",
     "text": [
      "140245316591824 140245316591824\n",
      "True\n"
     ]
    }
   ],
   "source": [
    "print(id(Fish.feed), id(Pet.feed))\n",
    "print(id(Fish.feed) == id(Pet.feed))"
   ]
  },
  {
   "cell_type": "markdown",
   "metadata": {
    "slideshow": {
     "slide_type": "fragment"
    }
   },
   "source": [
    "Wait, wasn't `feed()` an instance method?\n",
    "\n",
    "Yes, but it is *defined* and visible in the class, simply because we made `def feed(self)` in the scope of `class Pet`. However, Python *binds* it to an object when it is called on an object. Check this:"
   ]
  },
  {
   "cell_type": "code",
   "execution_count": 10,
   "metadata": {
    "collapsed": false
   },
   "outputs": [
    {
     "name": "stdout",
     "output_type": "stream",
     "text": [
      "0\n",
      "0\n"
     ]
    }
   ],
   "source": [
    "nemo = Fish(\"nemo\", 1)\n",
    "\n",
    "nemo.hunger = 10\n",
    "nemo.feed()\n",
    "print(nemo.hunger)\n",
    "\n",
    "nemo.hunger = 10\n",
    "Fish.feed(nemo)\n",
    "print(nemo.hunger)"
   ]
  },
  {
   "cell_type": "markdown",
   "metadata": {},
   "source": [
    "`nemo.feed()` and `Fish.feed(nemo)` do the same! That is because the first form is derived from the second form (more on that specific bit later)."
   ]
  },
  {
   "cell_type": "markdown",
   "metadata": {
    "slideshow": {
     "slide_type": "fragment"
    }
   },
   "source": [
    "Now you understand why every method inside a class has \"`self`\" as its first parameter, and why it is a good convention to name that parameter \"`self`\"."
   ]
  },
  {
   "cell_type": "markdown",
   "metadata": {
    "slideshow": {
     "slide_type": "slide"
    }
   },
   "source": [
    "### Subclasses may override attributes and methods\n",
    "\n",
    "`Fish` defines its own `__init__()` method. We say that `Fish` \"overrides\" `__init__()`. Consequently, these methods are not the same in `Fish` and `Pet`:"
   ]
  },
  {
   "cell_type": "code",
   "execution_count": 11,
   "metadata": {
    "collapsed": false
   },
   "outputs": [
    {
     "name": "stdout",
     "output_type": "stream",
     "text": [
      "140245317070920 140245317074456\n",
      "False\n"
     ]
    }
   ],
   "source": [
    "print(id(Fish.__init__), id(Pet.__init__))\n",
    "print(id(Fish.__init__) == id(Pet.__init__))"
   ]
  },
  {
   "cell_type": "markdown",
   "metadata": {
    "slideshow": {
     "slide_type": "slide"
    }
   },
   "source": [
    "## Objects inherit attributes from their class\n",
    "\n",
    "Classes inherit and can override attributes from their parent classes.\n",
    "\n",
    "Objects inherit and can override attributes from their class."
   ]
  },
  {
   "cell_type": "code",
   "execution_count": 12,
   "metadata": {
    "collapsed": false,
    "slideshow": {
     "slide_type": "fragment"
    }
   },
   "outputs": [
    {
     "name": "stdout",
     "output_type": "stream",
     "text": [
      "B\n",
      "True\n",
      "False\n",
      "0 1\n"
     ]
    }
   ],
   "source": [
    "class A:\n",
    "    def f(self):\n",
    "        return self.__class__.__name__\n",
    "\n",
    "class B(A):\n",
    "    attr = 0\n",
    "\n",
    "b = B()\n",
    "\n",
    "print( B.f(b) ) # B inherits f from A\n",
    "print( id(B.attr) == id(b.attr) ) # b inherits attr from B\n",
    "b.attr = 1 # now b overrides attr\n",
    "print( id(B.attr) == id(b.attr) )\n",
    "print( B.attr, b.attr )"
   ]
  },
  {
   "cell_type": "markdown",
   "metadata": {
    "slideshow": {
     "slide_type": "slide"
    }
   },
   "source": [
    "Fun fact about methods: instance methods just override the methods they inherit from the class. Remember:"
   ]
  },
  {
   "cell_type": "code",
   "execution_count": 13,
   "metadata": {
    "collapsed": false
   },
   "outputs": [
    {
     "data": {
      "text/plain": [
       "True"
      ]
     },
     "execution_count": 13,
     "metadata": {},
     "output_type": "execute_result"
    }
   ],
   "source": [
    "B.f(b) == b.f() # b.f is just B.f \"bound to b\""
   ]
  },
  {
   "cell_type": "markdown",
   "metadata": {},
   "source": [
    "Effectively, the Python interpreter does something like this in `B.__init__()`:\n",
    "\n",
    "```\n",
    "self.f = functools.partial(B.f, self) TODO looks ugly on slide\n",
    "```"
   ]
  },
  {
   "cell_type": "markdown",
   "metadata": {
    "slideshow": {
     "slide_type": "slide"
    }
   },
   "source": [
    "... oh, just for fun and as a little reminder, nothing stops us from setting an object's attribute to something else:"
   ]
  },
  {
   "cell_type": "code",
   "execution_count": 14,
   "metadata": {
    "collapsed": false
   },
   "outputs": [
    {
     "name": "stdout",
     "output_type": "stream",
     "text": [
      "B\n",
      "foo\n"
     ]
    }
   ],
   "source": [
    "b2 = B()\n",
    "print( b2.f() )\n",
    "\n",
    "def foo():\n",
    "    return \"foo\"\n",
    "\n",
    "b2.f = foo\n",
    "print( b2.f() )"
   ]
  },
  {
   "cell_type": "markdown",
   "metadata": {
    "slideshow": {
     "slide_type": "fragment"
    }
   },
   "source": [
    "**DON'T DO THIS AT HOME.**"
   ]
  },
  {
   "cell_type": "markdown",
   "metadata": {
    "slideshow": {
     "slide_type": "slide"
    }
   },
   "source": [
    "## Attribute lookup in objects and classes\n",
    "\n",
    "When you access `some_obj.some_attr`, this is the order of objects in which Python looks after `some_attr`:\n",
    "\n",
    "1. `some_obj`\n",
    "2. `some_obj.__class__`\n",
    "\n",
    "When you access `SomeClass.some_attr`, this is the order of objects in which Python looks after `some_attr`:\n",
    "\n",
    "1. `SomeClass`\n",
    "2. ancestors of `SomeClass` in [C3 linearization](https://en.wikipedia.org/wiki/C3_linearization) order\n",
    "\n",
    "This so-called \"method resolution order\" can for any class be looked up like so:"
   ]
  },
  {
   "cell_type": "code",
   "execution_count": 15,
   "metadata": {
    "collapsed": false
   },
   "outputs": [
    {
     "data": {
      "text/plain": [
       "(__main__.Fish, __main__.Pet, object)"
      ]
     },
     "execution_count": 15,
     "metadata": {},
     "output_type": "execute_result"
    }
   ],
   "source": [
    "Fish.__mro__"
   ]
  },
  {
   "cell_type": "markdown",
   "metadata": {
    "slideshow": {
     "slide_type": "slide"
    }
   },
   "source": [
    "\n",
    "## Magic methods (\\__*methodname*\\__)\n",
    "\n",
    "Some methods on classes are called \"magic methods\". Their name usually starts and ends with two underscores.\n",
    "\n",
    "Magic methods are methods that have a special meaning within Python. For example, `__init__` is the method that is called when an instance of a class is constructed.\n",
    "\n",
    "There are many other magic methods, however. You can override them in your own classes. (They are defined in `object`, so you are overriding them.)\n",
    "\n",
    "For example, `__repr__`, which is supposed to \"return a canonical string representation of an object\" (whatever that is). You can get this \"canonical representation\" for any object by calling `repr(obj)`:"
   ]
  },
  {
   "cell_type": "code",
   "execution_count": 16,
   "metadata": {
    "collapsed": false
   },
   "outputs": [
    {
     "name": "stdout",
     "output_type": "stream",
     "text": [
      "<__main__.Fish object at 0x7f8d6846d080>\n",
      "<__main__.Fish object at 0x7f8d6846d080>\n",
      "<__main__.Fish object at 0x7f8d6846d080>\n"
     ]
    }
   ],
   "source": [
    "print(repr(nemo))\n",
    "print(object.__repr__(nemo))\n",
    "print(nemo)"
   ]
  },
  {
   "cell_type": "markdown",
   "metadata": {
    "slideshow": {
     "slide_type": "slide"
    }
   },
   "source": [
    "That string representation is not very readable for humans, especially when we do something like this:"
   ]
  },
  {
   "cell_type": "code",
   "execution_count": 17,
   "metadata": {
    "collapsed": false
   },
   "outputs": [
    {
     "name": "stdout",
     "output_type": "stream",
     "text": [
      "{<__main__.Fish object at 0x7f8d6846d080>, <__main__.Fish object at 0x7f8d684beef0>}\n"
     ]
    }
   ],
   "source": [
    "print(Pet.population)"
   ]
  },
  {
   "cell_type": "markdown",
   "metadata": {},
   "source": [
    "We can make this more readable by overriding `__repr__` in Pet. We do this guerilla-style here (you might not want to do this at home):"
   ]
  },
  {
   "cell_type": "code",
   "execution_count": 18,
   "metadata": {
    "collapsed": false
   },
   "outputs": [
    {
     "name": "stdout",
     "output_type": "stream",
     "text": [
      "{nemo (Fish), sharkie (Fish)}\n"
     ]
    }
   ],
   "source": [
    "def better_pet_repr(o):\n",
    "    return \"{} ({})\".format(o.name, o.__class__.__name__)\n",
    "    \n",
    "Pet.__repr__ = better_pet_repr\n",
    "\n",
    "print(Pet.population)"
   ]
  },
  {
   "cell_type": "markdown",
   "metadata": {
    "slideshow": {
     "slide_type": "slide"
    }
   },
   "source": [
    "## Interfaces\n",
    "\n",
    "\"Interfaces\" are not a formal language construct in Python like they are in other languages, for example Java.\n",
    "\n",
    "The informal meaning of \"class C implements interface X\" in Python is just \"C implements the methods that an X has\".\n",
    "\n",
    "Example: an object `obj` \"implements the 'callable' interface\" when it implements `__call__()`. (Then you can call `obj()`.)\n",
    "\n",
    "TODO code example"
   ]
  },
  {
   "cell_type": "markdown",
   "metadata": {
    "slideshow": {
     "slide_type": "slide"
    }
   },
   "source": [
    "## Duck typing\n",
    "\n",
    "> \"If it quacks like a duck and looks like a duck, it's a duck.\""
   ]
  },
  {
   "cell_type": "code",
   "execution_count": 19,
   "metadata": {
    "collapsed": false
   },
   "outputs": [
    {
     "name": "stdout",
     "output_type": "stream",
     "text": [
      "quackfoo\n",
      "quackbar\n"
     ]
    }
   ],
   "source": [
    "class A:\n",
    "    def quack(self):\n",
    "        return \"quackfoo\"\n",
    "    \n",
    "class B:\n",
    "    quack = lambda self: \"quackbar\" # saved a linebreak, woohoo!\n",
    "    \n",
    "def make_em_quack(*objs):\n",
    "    for o in objs:\n",
    "        print(o.quack())\n",
    "    \n",
    "make_em_quack(A(), B())"
   ]
  },
  {
   "cell_type": "markdown",
   "metadata": {},
   "source": [
    "The classes `A` and `B` are not related. They just both happen to have the method `quack()`. Which is all the function `make_em_quack()` needs. To that function, both `A` and `B` are sufficiently like a duck."
   ]
  },
  {
   "cell_type": "markdown",
   "metadata": {
    "slideshow": {
     "slide_type": "slide"
    }
   },
   "source": [
    "## `collections.abc`: make your own containers\n",
    "\n",
    "The [collections.abc](https://docs.python.org/3.5/library/collections.abc.html) module gives us a lot of \"base classes\" we can subclass to easily make our own containers.\n",
    "\n",
    "If we subclass such a \"base class\", we need only implement a few methods, and inherit the rest from the base class.\n",
    "\n",
    "Example: `collections.abc.Mapping`\n",
    "* you must supply only 3 methods: `__getitem__`, `__iter__`, and `__len__`\n",
    "* you inherit all the rest that \"makes a mapping\": `__contains__`, `keys`, `items`, `values`, `get`, `__eq__`, and `__ne__`"
   ]
  },
  {
   "cell_type": "code",
   "execution_count": 20,
   "metadata": {
    "collapsed": true,
    "slideshow": {
     "slide_type": "slide"
    }
   },
   "outputs": [],
   "source": [
    "from collections.abc import Mapping\n",
    "\n",
    "class PetsByName(Mapping):\n",
    "    def __iter__(self):\n",
    "        return set(map(lambda p: p.name, Pet.population)).__iter__()\n",
    "\n",
    "    def __getitem__(self, name):\n",
    "        matches = set(filter(lambda p: p.name == name, Pet.population))\n",
    "        if not matches:\n",
    "            raise KeyError\n",
    "        return matches\n",
    "    \n",
    "    def __len__(self):\n",
    "        return sum(1 for _ in self.__iter__())"
   ]
  },
  {
   "cell_type": "code",
   "execution_count": 21,
   "metadata": {
    "collapsed": false,
    "slideshow": {
     "slide_type": "fragment"
    }
   },
   "outputs": [
    {
     "name": "stdout",
     "output_type": "stream",
     "text": [
      "There are 2 names in the population.\n",
      "{'Arielle', 'Sushi'}\n",
      "Arielle: {Arielle (Fish)}\n",
      "Sushi: {Sushi (Fish), Sushi (Pet)}\n"
     ]
    }
   ],
   "source": [
    "Pet.population = set()\n",
    "f1 = Fish(\"Arielle\", \"blue\")\n",
    "f3 = Fish(\"Sushi\", \"silver\")\n",
    "p = Pet(\"Sushi\")\n",
    "\n",
    "m = PetsByName()\n",
    "print( \"There are {} names in the population.\".format(len(m)) )\n",
    "print( set(m.keys()) )\n",
    "for name, pets in m.items():\n",
    "    print(\"{}: {}\".format(name, pets))"
   ]
  },
  {
   "cell_type": "markdown",
   "metadata": {
    "slideshow": {
     "slide_type": "slide"
    }
   },
   "source": [
    "## Parting note: stop writing classes\n",
    "\n",
    "Classes are cool and powerful, but tend to be used way too often when simpler, shorter \"class-less\" code would suffice.\n",
    "\n",
    "*Homework: watch the famous [stop writing classes](https://www.youtube.com/watch?v=o9pEzgHorH0) talk.*"
   ]
  },
  {
   "cell_type": "markdown",
   "metadata": {
    "slideshow": {
     "slide_type": "notes"
    }
   },
   "source": [
    "### So when write classes?\n",
    "\n",
    "Writing a class might be a good idea when you model your problem with \"lots of entities of mutable data, with functions dealing with such entities\"."
   ]
  }
 ],
 "metadata": {
  "celltoolbar": "Slideshow",
  "kernelspec": {
   "display_name": "Python 3",
   "language": "python",
   "name": "python3"
  },
  "language_info": {
   "codemirror_mode": {
    "name": "ipython",
    "version": 3
   },
   "file_extension": ".py",
   "mimetype": "text/x-python",
   "name": "python",
   "nbconvert_exporter": "python",
   "pygments_lexer": "ipython3",
   "version": "3.5.1"
  }
 },
 "nbformat": 4,
 "nbformat_minor": 0
}
