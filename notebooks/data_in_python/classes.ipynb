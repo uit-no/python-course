{
 "cells": [
  {
   "cell_type": "markdown",
   "metadata": {
    "slideshow": {
     "slide_type": "slide"
    }
   },
   "source": [
    "# Classes in Python"
   ]
  },
  {
   "cell_type": "markdown",
   "metadata": {
    "slideshow": {
     "slide_type": "slide"
    }
   },
   "source": [
    "## What is a class?"
   ]
  },
  {
   "cell_type": "markdown",
   "metadata": {
    "slideshow": {
     "slide_type": "fragment"
    }
   },
   "source": [
    "Many things :-/\n",
    "\n",
    "There are several ways to explain classes, some rather abstract and philosophical, others more practical. We don't have much time, so I go for *very* practical with a few examples."
   ]
  },
  {
   "cell_type": "markdown",
   "metadata": {
    "slideshow": {
     "slide_type": "slide"
    }
   },
   "source": [
    "## Classes by example: the class of pets\n",
    "\n",
    "A class describes data (\"attributes\") and behavior (\"methods\") of objects that are \"instances\" of it:"
   ]
  },
  {
   "cell_type": "code",
   "execution_count": 1,
   "metadata": {
    "collapsed": true,
    "slideshow": {
     "slide_type": "fragment"
    }
   },
   "outputs": [],
   "source": [
    "class Pet:\n",
    "    def __init__(self, name):\n",
    "        self.name = name\n",
    "        self.hunger = 0\n",
    "        self.age = 0\n",
    "        \n",
    "    def advance_time(self):\n",
    "        self.age += 1\n",
    "        self.hunger += 1\n",
    "        \n",
    "    def feed(self):\n",
    "        self.hunger = 0\n",
    "        \n",
    "    def hungrier_than(self, other_pet):\n",
    "        return self.hunger > other_pet.hunger\n",
    "\n",
    "my_degu = Pet(name=\"Vitali\")\n",
    "my_other_degu = Pet(\"Wladimir\")"
   ]
  },
  {
   "cell_type": "markdown",
   "metadata": {
    "slideshow": {
     "slide_type": "notes"
    }
   },
   "source": [
    "This is how we can read the above code:\n",
    "\n",
    "* `my_degu` and `my_other_degu` are objects, and instances of `Pet` (short: \"they are pets\").\n",
    "* `Pet` can be understood in several ways: for example as \"the concept of pet\", or \"the entirety of pets\", or \"the data type pet\".\n",
    "* `Pet` describes some properties and state of a pet (through the attributes `name`, `age`, `hunger`), what happens when a pet is fed (through the method `feed()`), what happens when time passes (through the method `advance_time()`), and how to compare a pet to another pet in some way (through the method `hungrier_than()`).\n",
    "* `__init__` is a special method: it is called when a new Pet is created. This method is called \"the constructor\" of the class.\n",
    "* Every method's first parameter is a reference to the object itself. By convention, it is called \"self\".\n",
    "\n",
    "Let's do something with the pets:"
   ]
  },
  {
   "cell_type": "code",
   "execution_count": 2,
   "metadata": {
    "collapsed": false,
    "slideshow": {
     "slide_type": "fragment"
    }
   },
   "outputs": [
    {
     "name": "stdout",
     "output_type": "stream",
     "text": [
      "True\n",
      "Vitali 10\n"
     ]
    }
   ],
   "source": [
    "for _ in range(10):\n",
    "    my_degu.advance_time()\n",
    "    my_other_degu.advance_time()\n",
    "\n",
    "my_degu.feed()\n",
    "print(my_other_degu.hungrier_than(my_degu))\n",
    "print(my_degu.name, my_degu.age)"
   ]
  },
  {
   "cell_type": "markdown",
   "metadata": {
    "slideshow": {
     "slide_type": "notes"
    }
   },
   "source": [
    "You see that you can use `my_degu` and `my_other_degu` like you have used any other objects before: by accessing attributes and methods usig \"`.`\", and by passing objects to functions as a value."
   ]
  },
  {
   "cell_type": "markdown",
   "metadata": {
    "slideshow": {
     "slide_type": "slide"
    }
   },
   "source": [
    "## Class attributes and class methods\n",
    "\n",
    "A class can not only describe data and behavior of its instances, but also of itself (\"the entirety of pets\", or \"the concept of pets\").\n",
    "\n",
    "We redefine the Pet class a bit:"
   ]
  },
  {
   "cell_type": "code",
   "execution_count": 3,
   "metadata": {
    "collapsed": true,
    "slideshow": {
     "slide_type": "fragment"
    }
   },
   "outputs": [],
   "source": [
    "class Pet:\n",
    "    population = set()\n",
    "    \n",
    "    def __init__(self, name):\n",
    "        self.name = name\n",
    "        self.hunger = 0\n",
    "        self.age = 0\n",
    "        self.__class__.population.add(self)\n",
    "        \n",
    "    def die(self):\n",
    "        print(\"{} dies :(\".format(self.name))\n",
    "        self.__class__.population.remove(self)\n",
    "        \n",
    "    def is_alive(self):\n",
    "        return self in self.__class__.population\n",
    "        \n",
    "    @classmethod\n",
    "    def advance_time(cls):\n",
    "        for individual in cls.population:\n",
    "            individual.age += 1\n",
    "            individual.hunger += 1\n",
    "        \n",
    "    def feed(self):\n",
    "        self.hunger = 0\n",
    "        \n",
    "    def hungrier_than(self, other_pet):\n",
    "        return self.hunger > other_pet.hunger\n",
    "\n",
    "my_degu = Pet(name=\"Vitali\")\n",
    "my_other_degu = Pet(\"Wladimir\")"
   ]
  },
  {
   "cell_type": "markdown",
   "metadata": {
    "slideshow": {
     "slide_type": "notes"
    }
   },
   "source": [
    "This is how we can read what is new and exciting about our redefined class:\n",
    "\n",
    "* `population` is a class attribute, i.e., it is defined on the class. `Pet.population` is the set of all pets. When a pet is created, it is added to the Pet population. When it `die()`s (a method we added), it is removed from the Pet population. For a given pet, we can check whether it's alive by calling `is_alive()`.\n",
    "* Unlike `population`, the other attributes are instance attributes. `Pet.name` does not exist, but `my_other_degu.name` does.\n",
    "* In instance methods like `__init__()` or `die()`, `self.__class__` refers to the class of self. We could just as well write `Pet` here, but it's better not to (mor on that later if we have time).\n",
    "* `advance_time` is now a \"class method\". Its first parameter is not an instance, but the class itself. The parameter is usually called \"cls\"."
   ]
  },
  {
   "cell_type": "code",
   "execution_count": 4,
   "metadata": {
    "collapsed": false,
    "slideshow": {
     "slide_type": "fragment"
    }
   },
   "outputs": [
    {
     "name": "stdout",
     "output_type": "stream",
     "text": [
      "True\n",
      "Vitali 10\n",
      "There are 2 pets.\n",
      "Vitali dies :(\n",
      "There are 1 pets.\n",
      "Wladimir dies :(\n",
      "There are 0 pets.\n"
     ]
    }
   ],
   "source": [
    "for _ in range(10):\n",
    "    Pet.advance_time()\n",
    "\n",
    "my_degu.feed()\n",
    "print(my_other_degu.hungrier_than(my_degu))\n",
    "print(my_degu.name, my_degu.age)\n",
    "print(\"There are {} pets.\".format(len(Pet.population)))\n",
    "\n",
    "my_degu.die()\n",
    "print(\"There are {} pets.\".format(len(Pet.population)))\n",
    "my_other_degu.die()\n",
    "print(\"There are {} pets.\".format(len(Pet.population)))"
   ]
  },
  {
   "cell_type": "markdown",
   "metadata": {
    "slideshow": {
     "slide_type": "notes"
    }
   },
   "source": [
    "The only big change in the usage example is that instead of having to \"advance time\" for each pet individually, we now advance time for all pets in existence through our new class method."
   ]
  },
  {
   "cell_type": "markdown",
   "metadata": {
    "slideshow": {
     "slide_type": "slide"
    }
   },
   "source": [
    "## In Python, a class is an object\n",
    "\n",
    "In Python, almost everything is an object. So is a class:"
   ]
  },
  {
   "cell_type": "code",
   "execution_count": 5,
   "metadata": {
    "collapsed": false
   },
   "outputs": [
    {
     "name": "stdout",
     "output_type": "stream",
     "text": [
      "True\n",
      "True\n"
     ]
    }
   ],
   "source": [
    "print(isinstance(Pet, object))\n",
    "print(isinstance(my_degu, object))"
   ]
  },
  {
   "cell_type": "markdown",
   "metadata": {},
   "source": [
    "This might look a bit confusing at first, but it really isn't. We have already used object semantics on `Pet`, and you probably did not even blink at it. The use of \"`.`\" to address an attribute, for instance, or the fact that we called a class method on the `Pet` class *just like* we called an instance method on a pet.\n",
    "\n",
    "All you need to know is that you can shape a class and interact with a class in the same way as with any object. Like an object, a class has attributes holding data, and methods that you can call."
   ]
  },
  {
   "cell_type": "markdown",
   "metadata": {
    "slideshow": {
     "slide_type": "slide"
    }
   },
   "source": [
    "## Subclasses: the class of fishes\n",
    "\n",
    "One thing you can do with classes is to *specialize* them by defining subclasses. For example, we can define a special kind of pet:"
   ]
  },
  {
   "cell_type": "code",
   "execution_count": 6,
   "metadata": {
    "collapsed": true
   },
   "outputs": [],
   "source": [
    "class Fish(Pet):\n",
    "    def __init__(self, name, color):\n",
    "        self.color = color\n",
    "        super().__init__(name)\n",
    "        \n",
    "    def meet(self, other_fish):\n",
    "        if not isinstance(other_fish, Fish):\n",
    "            return\n",
    "        if self.color != other_fish.color:\n",
    "            if self.hungrier_than(other_fish):\n",
    "                self.feed()\n",
    "                other_fish.die()\n",
    "            elif other_fish.hungrier_than(self):\n",
    "                other_fish.feed()\n",
    "                self.die()"
   ]
  },
  {
   "cell_type": "markdown",
   "metadata": {
    "slideshow": {
     "slide_type": "notes"
    }
   },
   "source": [
    "Here's the rundown of what we did and what it means:\n",
    "\n",
    "* `Fish` is a \"subclass\" of `Pet`. This means that \"Fish is a Pet\". Technically, it means that `Fish` \"inherits\" all attributes and methods from `Pet`. You'll soon see what that means exactly.\n",
    "    * Nomenclature that is good to know: `Pet` is a \"superclass\" or \"ancestor\" of `Fish`. Since `Fish` is directly \"derived from\" `Pet`, `Pet` is also a \"parent\" or \"base class\" of `Fish`.\n",
    "* `Fish.__init__()` looks a little different than `Pet.__init__()`. There is an extra parameter, and `Fish.__init__()` *calls* `Pet.__init__()` through `super()`.\n",
    "* `super()` is the way to call a method in the parent class. It is a common pattern that a method that is \"overridden\" in a subclass (i.e. it exists in both subclass and superclass) calls `super()`. When `fish.f()` does the same as `pet.f()`, but..., then `fish.f()` probably calls `super().f()`.\n",
    "* A fish can meet another fish, with predictable results.\n",
    "\n",
    "Some code with fishes:"
   ]
  },
  {
   "cell_type": "code",
   "execution_count": 7,
   "metadata": {
    "collapsed": false,
    "slideshow": {
     "slide_type": "fragment"
    }
   },
   "outputs": [
    {
     "name": "stdout",
     "output_type": "stream",
     "text": [
      "There are 2 pets.\n",
      "first meet\n",
      "time passes, and we throw in a bit of food regularly\n",
      "second meet\n",
      "sushi dies :(\n"
     ]
    }
   ],
   "source": [
    "sushi = Fish(name=\"sushi\", color=\"silver\")\n",
    "sharkie = Fish(\"sharkie\", \"blue\")\n",
    "\n",
    "print(\"There are {} pets.\".format(len(Pet.population)))\n",
    "\n",
    "print(\"first meet\")\n",
    "sushi.meet(sharkie)\n",
    "print(\"time passes, and we throw in a bit of food regularly\")\n",
    "import random\n",
    "for _ in range(11):\n",
    "    Pet.advance_time()\n",
    "    random.choice((sushi, sharkie)).feed()\n",
    "print(\"second meet\")\n",
    "sushi.meet(sharkie)"
   ]
  },
  {
   "cell_type": "markdown",
   "metadata": {
    "slideshow": {
     "slide_type": "slide"
    }
   },
   "source": [
    "### Inheriting attributes and methods\n",
    "\n",
    "`Fish` \"inherits\" all attributes and methods from `Pet`, which in turn inherits everything from `object` because we haven't specified anything else. That means that all attributes and methods of `Pet` and `object` are visible in `Fish`, unless `Fish` makes an own attribute or method of the same name. That means that for example `Fish.population` is the same as `Pet.population`. \"The same as\" as in \"literally the same thing\"!"
   ]
  },
  {
   "cell_type": "code",
   "execution_count": 8,
   "metadata": {
    "collapsed": false
   },
   "outputs": [
    {
     "name": "stdout",
     "output_type": "stream",
     "text": [
      "139818602843720 139818602843720\n",
      "True\n"
     ]
    }
   ],
   "source": [
    "# id(obj) returns the memory address of obj\n",
    "print(id(Fish.population), id(Pet.population))\n",
    "print(id(Fish.population) == id(Pet.population))"
   ]
  },
  {
   "cell_type": "markdown",
   "metadata": {
    "slideshow": {
     "slide_type": "fragment"
    }
   },
   "source": [
    "Here's how that extends to methods (beware... technicalities ahead):"
   ]
  },
  {
   "cell_type": "code",
   "execution_count": 9,
   "metadata": {
    "collapsed": false
   },
   "outputs": [
    {
     "name": "stdout",
     "output_type": "stream",
     "text": [
      "139818593643376 139818593643376\n",
      "True\n"
     ]
    }
   ],
   "source": [
    "print(id(Fish.feed), id(Pet.feed))\n",
    "print(id(Fish.feed) == id(Pet.feed))"
   ]
  },
  {
   "cell_type": "markdown",
   "metadata": {
    "slideshow": {
     "slide_type": "fragment"
    }
   },
   "source": [
    "Wait, wasn't `feed()` an instance method?\n",
    "\n",
    "Yes, but it is *defined* and visible in the class, simply because we made `def feed(self)` in the scope of `class Pet`. However, Python *binds* it to an object when it is called on an object. Check this:"
   ]
  },
  {
   "cell_type": "code",
   "execution_count": 10,
   "metadata": {
    "collapsed": false
   },
   "outputs": [
    {
     "name": "stdout",
     "output_type": "stream",
     "text": [
      "0\n",
      "0\n"
     ]
    }
   ],
   "source": [
    "nemo = Fish(\"nemo\", \"orange-ish\")\n",
    "\n",
    "nemo.hunger = 10\n",
    "nemo.feed()\n",
    "print(nemo.hunger)\n",
    "\n",
    "nemo.hunger = 10\n",
    "Fish.feed(nemo)\n",
    "print(nemo.hunger)"
   ]
  },
  {
   "cell_type": "markdown",
   "metadata": {},
   "source": [
    "`nemo.feed()` and `Fish.feed(nemo)` are the same! That is because the first form is technically just a shorthand of the second form. Whenever the Python interpreter encounters `some_object.f()`, it will effectively call `some_object.__class__.f(some_object)`."
   ]
  },
  {
   "cell_type": "markdown",
   "metadata": {
    "slideshow": {
     "slide_type": "fragment"
    }
   },
   "source": [
    "Now you understand why every method inside a class has \"`self`\" as its first parameter, and why it is a good convention to name that parameter \"`self`\"."
   ]
  },
  {
   "cell_type": "markdown",
   "metadata": {
    "slideshow": {
     "slide_type": "slide"
    }
   },
   "source": [
    "### Overriding attributes and methods\n",
    "\n",
    "`Fish` defines its own `__init__()` method. We say that `Fish` \"overrides\" `__init__()`. Consequently, these methods are not the same in `Fish` and `Pet`:"
   ]
  },
  {
   "cell_type": "code",
   "execution_count": 11,
   "metadata": {
    "collapsed": false
   },
   "outputs": [
    {
     "name": "stdout",
     "output_type": "stream",
     "text": [
      "139818593641608 139818593642832\n",
      "False\n"
     ]
    }
   ],
   "source": [
    "print(id(Fish.__init__), id(Pet.__init__))\n",
    "print(id(Fish.__init__) == id(Pet.__init__))"
   ]
  },
  {
   "cell_type": "markdown",
   "metadata": {
    "slideshow": {
     "slide_type": "slide"
    }
   },
   "source": [
    "## Magic methods (\\__*methodname*\\__)\n",
    "\n",
    "Some methods on classes are called \"magic methods\". Their name usually starts and ends with two underscores.\n",
    "\n",
    "Magic methods are methods that have a special meaning within Python. For example, `__init__` is the method that is called when an instance of a class is constructed.\n",
    "\n",
    "There are many other magic methods, however. You can override them in your own classes. (They are defined in `object`, so you are overriding them.)\n",
    "\n",
    "For example, `__repr__`, which is supposed to \"return a canonical string representation of an object\" (whatever that is). You can get this \"canonical representation\" for any object by calling `repr(obj)`:"
   ]
  },
  {
   "cell_type": "code",
   "execution_count": 12,
   "metadata": {
    "collapsed": false
   },
   "outputs": [
    {
     "name": "stdout",
     "output_type": "stream",
     "text": [
      "<__main__.Fish object at 0x7f2a0d14d1d0>\n",
      "<__main__.Fish object at 0x7f2a0d14d1d0>\n",
      "<__main__.Fish object at 0x7f2a0d14d1d0>\n"
     ]
    }
   ],
   "source": [
    "print(repr(nemo))\n",
    "print(object.__repr__(nemo))\n",
    "print(nemo)"
   ]
  },
  {
   "cell_type": "markdown",
   "metadata": {
    "slideshow": {
     "slide_type": "fragment"
    }
   },
   "source": [
    "That's not very pretty, especially when we want something like this:"
   ]
  },
  {
   "cell_type": "code",
   "execution_count": 13,
   "metadata": {
    "collapsed": false
   },
   "outputs": [
    {
     "name": "stdout",
     "output_type": "stream",
     "text": [
      "{<__main__.Fish object at 0x7f2a0d14d1d0>, <__main__.Fish object at 0x7f2a0d9b18d0>}\n"
     ]
    }
   ],
   "source": [
    "print(Pet.population)"
   ]
  },
  {
   "cell_type": "markdown",
   "metadata": {},
   "source": [
    "We can make this more readable by overriding `__repr__` in Pet. We do this guerilla-style here (don't do this at home!):"
   ]
  },
  {
   "cell_type": "code",
   "execution_count": 14,
   "metadata": {
    "collapsed": false
   },
   "outputs": [
    {
     "name": "stdout",
     "output_type": "stream",
     "text": [
      "{nemo (Fish), sharkie (Fish)}\n"
     ]
    }
   ],
   "source": [
    "def better_pet_repr(o):\n",
    "    return \"{} ({})\".format(o.name, o.__class__.__name__)\n",
    "    \n",
    "Pet.__repr__ = better_pet_repr\n",
    "\n",
    "print(Pet.population)"
   ]
  },
  {
   "cell_type": "markdown",
   "metadata": {
    "slideshow": {
     "slide_type": "slide"
    }
   },
   "source": [
    "# TODO\n",
    "    \n",
    "* some interface... but which? maybe don't use the pet example any more?\n",
    "* duck typing: can be done with interface (if an object implements the interface X, it just works as an X)\n",
    "* collections.abc: quickly make a subclass of one of the containers there\n",
    "\n",
    "## Exercises:\n",
    "\n",
    "* make a subclass Dog which satisfies the following conditions:\n",
    "    * attribute 'happiness' which is initialized with 100 and decremented on advance_time.\n",
    "    * method `play_fetch()` that sets happiness to 100.\n",
    "    * when a dog meets another dog, both dog's happiness should be set to 100.\n",
    "    * a dog is always hungrier than any other pet that is not a dog.\n",
    "    * when a dog meets a fish, the dog is fed and the fish dies.\n",
    "* Pets die when they are hungrier than 100.\n",
    "* Fish die when they reach an age of 1000.\n",
    "* Dogs die when they reach an age of 2000, or when they are less happy than 0.\n",
    "* Pets are generally hungry when their hunger is > 50. With the exception of dogs, which are hungry when their hunger is > 10. Implement the method \"is_hungry\" wherever necessary to reflect that.\n",
    "* make a classmethod `Pet.get_hungry_pets()` which returns the set of pets that are hungry.\n",
    "* make a classmethod `Pet.get_population_of(klass)` which returns the set of pets that belong to the class `klass`. So `Pet.get_population_of(Fish)` should return the set of fishes."
   ]
  },
  {
   "cell_type": "markdown",
   "metadata": {},
   "source": [
    "### When classes?\n",
    "\n",
    "* when you deal with \"lots of entities of mutable data, with functions dealing with such entities\""
   ]
  }
 ],
 "metadata": {
  "celltoolbar": "Slideshow",
  "kernelspec": {
   "display_name": "Python 3",
   "language": "python",
   "name": "python3"
  },
  "language_info": {
   "codemirror_mode": {
    "name": "ipython",
    "version": 3
   },
   "file_extension": ".py",
   "mimetype": "text/x-python",
   "name": "python",
   "nbconvert_exporter": "python",
   "pygments_lexer": "ipython3",
   "version": "3.5.1"
  }
 },
 "nbformat": 4,
 "nbformat_minor": 0
}
