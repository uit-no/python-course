{
 "cells": [
  {
   "cell_type": "markdown",
   "metadata": {
    "slideshow": {
     "slide_type": "slide"
    }
   },
   "source": [
    "# Data containers in Python\n",
    "\n",
    "Lars Tiede\n"
   ]
  },
  {
   "cell_type": "markdown",
   "metadata": {
    "slideshow": {
     "slide_type": "slide"
    }
   },
   "source": [
    "## Basic container types\n",
    "\n",
    "We already know these: tuple, list, set, and dict."
   ]
  },
  {
   "cell_type": "code",
   "execution_count": 1,
   "metadata": {
    "collapsed": false,
    "slideshow": {
     "slide_type": "fragment"
    }
   },
   "outputs": [
    {
     "name": "stdout",
     "output_type": "stream",
     "text": [
      "(0, 1, 'a', 0, 1)\n"
     ]
    }
   ],
   "source": [
    "mytuple = (0,1,\"a\",0,1)\n",
    "print(mytuple)"
   ]
  },
  {
   "cell_type": "code",
   "execution_count": 2,
   "metadata": {
    "collapsed": false,
    "slideshow": {
     "slide_type": "fragment"
    }
   },
   "outputs": [
    {
     "name": "stdout",
     "output_type": "stream",
     "text": [
      "[0, 1, 'a', 0, 1]\n"
     ]
    }
   ],
   "source": [
    "mylist = [0,1,\"a\",0,1]\n",
    "print(mylist)"
   ]
  },
  {
   "cell_type": "code",
   "execution_count": 3,
   "metadata": {
    "collapsed": false,
    "slideshow": {
     "slide_type": "fragment"
    }
   },
   "outputs": [
    {
     "name": "stdout",
     "output_type": "stream",
     "text": [
      "{0, 1, 'a'}\n"
     ]
    }
   ],
   "source": [
    "myset = {0,1,\"a\",0,1}\n",
    "print(myset)"
   ]
  },
  {
   "cell_type": "code",
   "execution_count": 4,
   "metadata": {
    "collapsed": false,
    "slideshow": {
     "slide_type": "fragment"
    }
   },
   "outputs": [
    {
     "name": "stdout",
     "output_type": "stream",
     "text": [
      "{0: 'D', 1: 'E', 'a': 'C'}\n"
     ]
    }
   ],
   "source": [
    "mydict = {0:\"A\", 1:\"B\", \"a\":\"C\", 0:\"D\", 1:\"E\"}\n",
    "print(mydict)"
   ]
  },
  {
   "cell_type": "markdown",
   "metadata": {
    "slideshow": {
     "slide_type": "slide"
    }
   },
   "source": [
    "## More containers: `collections`\n",
    "\n",
    "The [collections](https://docs.python.org/3/library/collections.html) package gives us very useful container types beyond the basic ones."
   ]
  },
  {
   "cell_type": "code",
   "execution_count": 5,
   "metadata": {
    "collapsed": false,
    "slideshow": {
     "slide_type": "-"
    }
   },
   "outputs": [],
   "source": [
    "import collections"
   ]
  },
  {
   "cell_type": "markdown",
   "metadata": {
    "slideshow": {
     "slide_type": "-"
    }
   },
   "source": [
    "*BTW: Python's documentation on collections is some good reading for learners of the language.*"
   ]
  },
  {
   "cell_type": "markdown",
   "metadata": {
    "slideshow": {
     "slide_type": "slide"
    }
   },
   "source": [
    "### `namedtuple`: tuples with named fields"
   ]
  },
  {
   "cell_type": "markdown",
   "metadata": {
    "slideshow": {
     "slide_type": "fragment"
    }
   },
   "source": [
    "Who likes this?"
   ]
  },
  {
   "cell_type": "code",
   "execution_count": 6,
   "metadata": {
    "collapsed": false
   },
   "outputs": [
    {
     "name": "stdout",
     "output_type": "stream",
     "text": [
      "('Ola Nordmann', 'Noen vei 2', 9106, 'Mjelde')\n"
     ]
    }
   ],
   "source": [
    "my_address = (\"Ola Nordmann\", \"Noen vei 2\", 9106, \"Mjelde\")\n",
    "my_zipcode = my_address[2] # meh\n",
    "print(my_address)"
   ]
  },
  {
   "cell_type": "markdown",
   "metadata": {
    "slideshow": {
     "slide_type": "fragment"
    }
   },
   "source": [
    "That's right, nobody does. Therefore, `namedtuple`:"
   ]
  },
  {
   "cell_type": "code",
   "execution_count": 7,
   "metadata": {
    "collapsed": false
   },
   "outputs": [
    {
     "name": "stdout",
     "output_type": "stream",
     "text": [
      "Address(name='Ola Nordmann', road='Noen vei 2', zipcode=9106, town='Mjelde')\n"
     ]
    }
   ],
   "source": [
    "Address = collections.namedtuple(\"Address\", [\"name\", \"road\", \"zipcode\", \"town\"])\n",
    "\n",
    "my_address = Address(\"Ola Nordmann\", \"Noen vei 2\", 9106, town = \"Mjelde\")\n",
    "my_zipcode = my_address.zipcode # that's better\n",
    "print(my_address)"
   ]
  },
  {
   "cell_type": "markdown",
   "metadata": {
    "slideshow": {
     "slide_type": "fragment"
    }
   },
   "source": [
    "*namedtuple allows for more readable, self-documenting code.*"
   ]
  },
  {
   "cell_type": "markdown",
   "metadata": {
    "slideshow": {
     "slide_type": "slide"
    }
   },
   "source": [
    "### `defaultdict`: dict that calls a factory function for missing values"
   ]
  },
  {
   "cell_type": "markdown",
   "metadata": {
    "slideshow": {
     "slide_type": "fragment"
    }
   },
   "source": [
    "\"factory function\": a function whose purpose is to make some object and return it.\n",
    "\n",
    "In `defaultdict`: function that takes no parameter and returns a default value for any missing key."
   ]
  },
  {
   "cell_type": "code",
   "execution_count": 8,
   "metadata": {
    "collapsed": false,
    "slideshow": {
     "slide_type": "fragment"
    }
   },
   "outputs": [
    {
     "name": "stdout",
     "output_type": "stream",
     "text": [
      "dict_items([('p', 2), ('m', 1), ('i', 4), ('s', 4)])\n"
     ]
    }
   ],
   "source": [
    "counts = collections.defaultdict(int)\n",
    "s = \"mississippi\"\n",
    "for c in s:\n",
    "    counts[c] += 1\n",
    "    \n",
    "print(counts.items())"
   ]
  },
  {
   "cell_type": "markdown",
   "metadata": {},
   "source": [
    "Compare this to how this code would look like with a regular `dict`:"
   ]
  },
  {
   "cell_type": "code",
   "execution_count": 9,
   "metadata": {
    "collapsed": false
   },
   "outputs": [
    {
     "name": "stdout",
     "output_type": "stream",
     "text": [
      "dict_items([('p', 2), ('m', 1), ('i', 4), ('s', 4)])\n"
     ]
    }
   ],
   "source": [
    "counts = {}\n",
    "for c in s:\n",
    "    if c in counts: # \"if counts has a key c\"\n",
    "        counts[c] += 1\n",
    "    else:\n",
    "        counts[c] = 1\n",
    "\n",
    "print(counts.items())"
   ]
  },
  {
   "cell_type": "markdown",
   "metadata": {
    "slideshow": {
     "slide_type": "slide"
    }
   },
   "source": [
    "### `Counter`\n",
    "\n",
    "Counts hashable objects, similar to bags or multisets in other languages."
   ]
  },
  {
   "cell_type": "code",
   "execution_count": 10,
   "metadata": {
    "collapsed": false,
    "slideshow": {
     "slide_type": "fragment"
    }
   },
   "outputs": [
    {
     "name": "stdout",
     "output_type": "stream",
     "text": [
      "Counter({'i': 4, 's': 4, 'p': 2, 'm': 1})\n"
     ]
    }
   ],
   "source": [
    "c = collections.Counter('mississippi')\n",
    "print(c)"
   ]
  },
  {
   "cell_type": "code",
   "execution_count": 11,
   "metadata": {
    "collapsed": false,
    "slideshow": {
     "slide_type": "fragment"
    }
   },
   "outputs": [
    {
     "name": "stdout",
     "output_type": "stream",
     "text": [
      "Counter({'ham': 1, 'eggs': 1})\n",
      "0\n"
     ]
    }
   ],
   "source": [
    "c = collections.Counter([\"eggs\", \"ham\"])\n",
    "print(c)\n",
    "print(c[\"bacon\"])"
   ]
  },
  {
   "cell_type": "code",
   "execution_count": 12,
   "metadata": {
    "collapsed": false,
    "slideshow": {
     "slide_type": "fragment"
    }
   },
   "outputs": [
    {
     "name": "stdout",
     "output_type": "stream",
     "text": [
      "Counter({1: 33587, 3: 33219, 2: 33194})\n"
     ]
    }
   ],
   "source": [
    "import random\n",
    "\n",
    "c = collections.Counter( (random.randint(1,3) for i in range(100000)) )\n",
    "print(c)"
   ]
  },
  {
   "cell_type": "markdown",
   "metadata": {
    "slideshow": {
     "slide_type": "slide"
    }
   },
   "source": [
    "### More `collections`\n",
    "\n",
    "* `deque` - list-like container with fast appends and pops *on either end*\n",
    "* `ChainMap` - single view on multiple mappings (no need to make a new mapping)\n",
    "* `OrderedDict` - dict that remembers the order in which entries were added"
   ]
  }
 ],
 "metadata": {
  "celltoolbar": "Slideshow",
  "kernelspec": {
   "display_name": "Python 3",
   "language": "python",
   "name": "python3"
  },
  "language_info": {
   "codemirror_mode": {
    "name": "ipython",
    "version": 3
   },
   "file_extension": ".py",
   "mimetype": "text/x-python",
   "name": "python",
   "nbconvert_exporter": "python",
   "pygments_lexer": "ipython3",
   "version": "3.5.1"
  }
 },
 "nbformat": 4,
 "nbformat_minor": 0
}
