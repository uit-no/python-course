{
 "cells": [
  {
   "cell_type": "markdown",
   "metadata": {
    "slideshow": {
     "slide_type": "slide"
    }
   },
   "source": [
    "## Libraries Part 2: Command Lines, HTTP Requests and Databases\n",
    "\n",
    "* Click (http://click.pocoo.org/)\n",
    "* Requests (http://docs.python-requests.org/\n",
    "* Python Database API (https://www.python.org/dev/peps/pep-0249/)"
   ]
  },
  {
   "cell_type": "markdown",
   "metadata": {
    "slideshow": {
     "slide_type": "slide"
    }
   },
   "source": [
    "## Click\n",
    "\n",
    "Command line arguments.\n",
    "\n",
    "http://click.pocoo.org/"
   ]
  },
  {
   "cell_type": "markdown",
   "metadata": {
    "slideshow": {
     "slide_type": "slide"
    }
   },
   "source": [
    "## Requests: HTTP for Humans\n",
    "\n",
    "http://docs.python-requests.org/"
   ]
  },
  {
   "cell_type": "code",
   "execution_count": 1,
   "metadata": {
    "collapsed": false,
    "slideshow": {
     "slide_type": "slide"
    }
   },
   "outputs": [
    {
     "name": "stdout",
     "output_type": "stream",
     "text": [
      "True\n",
      "<!doctype html><html itemscope=\"\" itemtype=\"http://schema.org/WebPage\" lang=\"no\"><head><meta content\n"
     ]
    }
   ],
   "source": [
    "import requests\n",
    "\n",
    "r = requests.get('https://google.com/')\n",
    "\n",
    "print(r.ok)\n",
    "print(r.text[:100])\n"
   ]
  },
  {
   "cell_type": "markdown",
   "metadata": {
    "slideshow": {
     "slide_type": "slide"
    }
   },
   "source": [
    "## Basic Functionality\n",
    "\n",
    "```python\n",
    "# Parameters: \"http://uit.no/people?first_name=Anne\"\n",
    "r = requets.get(url, params={'first_name': 'Anne'})\n",
    "\n",
    "# Posting data:\n",
    "r = requests.post(url, data={'key': 'value'})\n",
    "\n",
    "# Authentication:\n",
    "r = requests.get(url, auth=('the_username', 'the_password'))\n",
    "```\n",
    "\n",
    "http://docs.python-requests.org/en/master/user/quickstart/"
   ]
  },
  {
   "cell_type": "markdown",
   "metadata": {
    "slideshow": {
     "slide_type": "slide"
    }
   },
   "source": [
    "## Web Services\n",
    "\n",
    "Example: Star Wars API: https://swapi.co/\n",
    "\n",
    "Returns (JSON)[http://json.org/] which is converted to a Python list or dictionary."
   ]
  },
  {
   "cell_type": "markdown",
   "metadata": {
    "collapsed": true,
    "slideshow": {
     "slide_type": "slide"
    }
   },
   "source": [
    "## Example: Star Wars API\n"
   ]
  },
  {
   "cell_type": "code",
   "execution_count": 16,
   "metadata": {
    "collapsed": false,
    "slideshow": {
     "slide_type": "fragment"
    }
   },
   "outputs": [
    {
     "name": "stdout",
     "output_type": "stream",
     "text": [
      "{'birth_year': '19BBY',\n",
      " 'created': '2014-12-09T13:50:51.644000Z',\n",
      " 'edited': '2014-12-20T21:17:56.891000Z',\n",
      " 'eye_color': 'blue',\n",
      " 'films': ['http://swapi.co/api/films/6/',\n",
      "           'http://swapi.co/api/films/3/',\n",
      "           'http://swapi.co/api/films/2/',\n",
      "           'http://swapi.co/api/films/1/',\n",
      "           'http://swapi.co/api/films/7/'],\n",
      " 'gender': 'male',\n",
      " 'hair_color': 'blond',\n",
      " 'height': '172',\n",
      " 'homeworld': 'http://swapi.co/api/planets/1/',\n",
      " 'mass': '77',\n",
      " 'name': 'Luke Skywalker',\n",
      " 'skin_color': 'fair',\n",
      " 'species': ['http://swapi.co/api/species/1/'],\n",
      " 'starships': ['http://swapi.co/api/starships/12/',\n",
      "               'http://swapi.co/api/starships/22/'],\n",
      " 'url': 'http://swapi.co/api/people/1/',\n",
      " 'vehicles': ['http://swapi.co/api/vehicles/14/',\n",
      "              'http://swapi.co/api/vehicles/30/']}\n"
     ]
    }
   ],
   "source": [
    "from pprint import pprint\n",
    "\n",
    "r = requests.get('https://swapi.co/api/people/1')\n",
    "luke = r.json()\n",
    "pprint(luke)"
   ]
  },
  {
   "cell_type": "markdown",
   "metadata": {
    "slideshow": {
     "slide_type": "slide"
    }
   },
   "source": [
    "## Databases\n",
    "\n",
    "Python Database API (https://www.python.org/dev/peps/pep-0249/)\n",
    "\n",
    "Same API for all database (SQLite, MySQL, PostgreSQL, Oracle etc.)"
   ]
  },
  {
   "cell_type": "markdown",
   "metadata": {
    "slideshow": {
     "slide_type": "slide"
    }
   },
   "source": [
    "## Example: SQLite\n",
    "\n",
    "https://www.sqlite.org/\n",
    "\n",
    "* comes with Python\n",
    "* no server, data is stored in a local file\n",
    "* great for prototyping and application data files (https://www.sqlite.org/whentouse.html)"
   ]
  },
  {
   "cell_type": "code",
   "execution_count": 3,
   "metadata": {
    "collapsed": false,
    "slideshow": {
     "slide_type": "slide"
    }
   },
   "outputs": [
    {
     "name": "stdout",
     "output_type": "stream",
     "text": [
      "('Citizen Kane', 1941)\n",
      "('Casablanca', 1942)\n",
      "('Minions', 2015)\n"
     ]
    }
   ],
   "source": [
    "import sqlite3\n",
    "\n",
    "conn = sqlite3.connect('files/movies.db')\n",
    "cursor = conn.cursor()\n",
    "\n",
    "cursor.execute('select * from movies')\n",
    "for row in cursor:\n",
    "    print(row)\n"
   ]
  },
  {
   "cell_type": "markdown",
   "metadata": {
    "collapsed": true,
    "slideshow": {
     "slide_type": "slide"
    }
   },
   "source": [
    "## Connection Parameters\n",
    "\n",
    "Databases differ here.\n",
    "\n",
    "PostgreSQL:\n",
    "\n",
    "```python\n",
    "import psycopg2\n",
    "conn = psycopg2.connect('dbname=movies user=bob')\n",
    "```\n",
    "\n",
    "MySQL\n",
    "\n",
    "```python\n",
    "import MySQLdb\n",
    "conn = MySQLdb.connect(db='movies', host='localhost')\n",
    "```\n"
   ]
  },
  {
   "cell_type": "markdown",
   "metadata": {
    "slideshow": {
     "slide_type": "slide"
    }
   },
   "source": [
    "## Query Arguments\n",
    "\n",
    "Databases differ here as well.\n",
    "\n",
    "SQLite:\n",
    "\n",
    "```python\n",
    "cursor.execute('select * from movies where title=?', ['Minions'])\n",
    "```\n",
    "\n",
    "MySQL:\n",
    "\n",
    "```python\n",
    "cursor.execute('select * from movies where title=%s', ['Minions'])\n",
    "```"
   ]
  },
  {
   "cell_type": "markdown",
   "metadata": {
    "slideshow": {
     "slide_type": "slide"
    }
   },
   "source": [
    "## Examples\n",
    "\n",
    "* [geturl.py](/edit/examples/libraries2/geturl.py)\n",
    "* [star_wars_name.py](/edit/examples/libraries2/star_wars_name.py)\n"
   ]
  },
  {
   "cell_type": "code",
   "execution_count": null,
   "metadata": {
    "collapsed": true
   },
   "outputs": [],
   "source": []
  }
 ],
 "metadata": {
  "celltoolbar": "Slideshow",
  "kernelspec": {
   "display_name": "Python 3",
   "language": "python",
   "name": "python3"
  },
  "language_info": {
   "codemirror_mode": {
    "name": "ipython",
    "version": 3
   },
   "file_extension": ".py",
   "mimetype": "text/x-python",
   "name": "python",
   "nbconvert_exporter": "python",
   "pygments_lexer": "ipython3",
   "version": "3.4.3+"
  }
 },
 "nbformat": 4,
 "nbformat_minor": 0
}
