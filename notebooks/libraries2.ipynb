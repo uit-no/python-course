{
 "cells": [
  {
   "cell_type": "markdown",
   "metadata": {},
   "source": [
    "## Requests: HTTP for Humans\n",
    "\n",
    "http://docs.python-requests.org/"
   ]
  },
  {
   "cell_type": "code",
   "execution_count": 13,
   "metadata": {
    "collapsed": false
   },
   "outputs": [
    {
     "name": "stdout",
     "output_type": "stream",
     "text": [
      "<!doctype html><html itemscope=\"\" itemtype=\"http://schema.org/WebPage\" lang=\"no\"><head><meta content\n"
     ]
    }
   ],
   "source": [
    "import requests\n",
    "\n",
    "r = requests.get('https://google.com/')\n",
    "print(r.text[:100])\n"
   ]
  },
  {
   "cell_type": "markdown",
   "metadata": {},
   "source": [
    "## Basic Functionality\n",
    "\n",
    "http://docs.python-requests.org/en/master/user/quickstart/\n",
    "\n",
    "```python\n",
    "# Parameters: \"http://uit.no/people?first_name=Anne\"\n",
    "r = requets.get(url, params={'first_name': 'Anne'})\n",
    "\n",
    "# Posting data:\n",
    "r = requests.post(url, data={'key': 'value'})\n",
    "\n",
    "# Authentication:\n",
    "r = requests.get(url, auth=('the_username', 'the_password'))\n",
    "```"
   ]
  },
  {
   "cell_type": "markdown",
   "metadata": {},
   "source": [
    "## Web Services\n",
    "\n",
    "Star Wars API: http://swapi.co/\n",
    "\n",
    "Example: http://swapi.co/api/people/1\n",
    "\n",
    "Returns JSON which is converted to a Python list or dictionary."
   ]
  },
  {
   "cell_type": "code",
   "execution_count": 16,
   "metadata": {
    "collapsed": false
   },
   "outputs": [
    {
     "name": "stdout",
     "output_type": "stream",
     "text": [
      "{'birth_year': '19BBY',\n",
      " 'created': '2014-12-09T13:50:51.644000Z',\n",
      " 'edited': '2014-12-20T21:17:56.891000Z',\n",
      " 'eye_color': 'blue',\n",
      " 'films': ['http://swapi.co/api/films/6/',\n",
      "           'http://swapi.co/api/films/3/',\n",
      "           'http://swapi.co/api/films/2/',\n",
      "           'http://swapi.co/api/films/1/',\n",
      "           'http://swapi.co/api/films/7/'],\n",
      " 'gender': 'male',\n",
      " 'hair_color': 'blond',\n",
      " 'height': '172',\n",
      " 'homeworld': 'http://swapi.co/api/planets/1/',\n",
      " 'mass': '77',\n",
      " 'name': 'Luke Skywalker',\n",
      " 'skin_color': 'fair',\n",
      " 'species': ['http://swapi.co/api/species/1/'],\n",
      " 'starships': ['http://swapi.co/api/starships/12/',\n",
      "               'http://swapi.co/api/starships/22/'],\n",
      " 'url': 'http://swapi.co/api/people/1/',\n",
      " 'vehicles': ['http://swapi.co/api/vehicles/14/',\n",
      "              'http://swapi.co/api/vehicles/30/']}\n"
     ]
    }
   ],
   "source": [
    "from pprint import pprint\n",
    "\n",
    "r = requests.get('https://swapi.co/api/people/1')\n",
    "luke = r.json()\n",
    "pprint(luke)"
   ]
  },
  {
   "cell_type": "markdown",
   "metadata": {},
   "source": [
    "## Click\n",
    "\n",
    "Command line arguments.\n",
    "\n",
    "http://click.pocoo.org/"
   ]
  },
  {
   "cell_type": "markdown",
   "metadata": {},
   "source": [
    "## Databases\n",
    "\n",
    "* Python Database API 2: https://www.python.org/dev/peps/pep-0249/\n",
    "* same API for all database (sqlite3, mysql, postgresql, oracle etc.).\n",
    "\n",
    "    "
   ]
  },
  {
   "cell_type": "markdown",
   "metadata": {},
   "source": [
    "## SQLite\n",
    "\n",
    "* comes with Python\n",
    "* no server, data is stored in a local file\n",
    "* great for prototyping and application data files\n",
    "* (Firefox uses it for bookmarks and history)\n",
    "\n",
    "https://www.sqlite.org/"
   ]
  },
  {
   "cell_type": "code",
   "execution_count": 3,
   "metadata": {
    "collapsed": true
   },
   "outputs": [],
   "source": [
    "import sqlite3\n",
    "\n",
    "conn = sqlite3.connect('starwars.db')\n",
    "cursor = conn.cursor()\n",
    "\n",
    "cursor.execute('select * from people')\n",
    "for row in cursor:\n",
    "    print(row)\n"
   ]
  },
  {
   "cell_type": "code",
   "execution_count": null,
   "metadata": {
    "collapsed": true
   },
   "outputs": [],
   "source": []
  },
  {
   "cell_type": "markdown",
   "metadata": {},
   "source": [
    "## Examples\n",
    "\n",
    "* [examples/libraries2/](../examples/libraries2/)"
   ]
  },
  {
   "cell_type": "code",
   "execution_count": null,
   "metadata": {
    "collapsed": true
   },
   "outputs": [],
   "source": []
  }
 ],
 "metadata": {
  "kernelspec": {
   "display_name": "Python 3",
   "language": "python",
   "name": "python3"
  },
  "language_info": {
   "codemirror_mode": {
    "name": "ipython",
    "version": 3
   },
   "file_extension": ".py",
   "mimetype": "text/x-python",
   "name": "python",
   "nbconvert_exporter": "python",
   "pygments_lexer": "ipython3",
   "version": "3.5.1"
  }
 },
 "nbformat": 4,
 "nbformat_minor": 0
}
