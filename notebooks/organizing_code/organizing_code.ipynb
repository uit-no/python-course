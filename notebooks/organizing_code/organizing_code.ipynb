{
 "cells": [
  {
   "cell_type": "markdown",
   "metadata": {
    "slideshow": {
     "slide_type": "slide"
    }
   },
   "source": [
    "\n",
    "## Organizing Code\n",
    "\n",
    "Keeping your code:\n",
    "\n",
    "* readable\n",
    "* correct\n",
    "* robust\n",
    "* maintainable\n",
    "\n",
    "Most of this talk this applies to any language."
   ]
  },
  {
   "cell_type": "markdown",
   "metadata": {
    "slideshow": {
     "slide_type": "slide"
    }
   },
   "source": [
    "\n",
    "## Contruct Your Program From Parts\n",
    "\n",
    "* functions, modules, packages\n",
    "* dictionaries, lists, sets\n",
    "* well defined API's between parts\n",
    "\n",
    "![Tree](graphs/tree.svg)"
   ]
  },
  {
   "cell_type": "markdown",
   "metadata": {
    "slideshow": {
     "slide_type": "slide"
    }
   },
   "source": [
    "## Contain the Mess\n",
    "    \n",
    "Some parts of your code are always going to be messy.\n",
    "\n",
    "Quarantine the mess:\n",
    "\n",
    "* put it in a function or module\n",
    "* make a well defined API for it\n",
    "\n",
    "The rest of your code will now be cleaner.\n"
   ]
  },
  {
   "cell_type": "markdown",
   "metadata": {
    "slideshow": {
     "slide_type": "slide"
    }
   },
   "source": [
    "## State is Evil\n",
    "\n",
    "* use pure functions when possible\n",
    "* a pure function doesn't modify anything outside itself\n",
    "* keep I/O near ``main()``"
   ]
  },
  {
   "cell_type": "markdown",
   "metadata": {
    "slideshow": {
     "slide_type": "slide"
    }
   },
   "source": [
    "\n",
    "## Don't Repeat Yourself (DRY)\n",
    "\n",
    "* don't copy and paste code\n",
    "* when you see repetition, it might be time for a function\n",
    "\n",
    "(Todo: Add example.)"
   ]
  },
  {
   "cell_type": "markdown",
   "metadata": {
    "slideshow": {
     "slide_type": "slide"
    }
   },
   "source": [
    "\n",
    "## But Don't Contort Yourself\n",
    "\n",
    "To avoid this repetition:\n",
    "\n",
    "```python\n",
    "MODE_NUMS = {\n",
    "    'stopped': 0,\n",
    "    'playing': 1,\n",
    "    'recording': 3,\n",
    "}\n",
    "MODE_NAMES = {\n",
    "    0: 'stopped',\n",
    "    1: 'playing',\n",
    "    3: 'recording',\n",
    "}\n",
    "```\n",
    "\n",
    "you could add code that adds the flipped values:\n",
    "\n",
    "```python\n",
    "MODES = {\n",
    "    'stopped': 0,\n",
    "    'playing': 1,\n",
    "    'recording': 3,\n",
    "}\n",
    "# Add reverse lookup.\n",
    "MODE_NAMES = {value: name for name, value in MODES.items()}\n",
    "```\n",
    "\n",
    "but it's not worth it for such a small table and it makes the code harder to understand.\n"
   ]
  },
  {
   "cell_type": "markdown",
   "metadata": {},
   "source": [
    "## Don't Copy and Paste Code\n",
    "\n",
    "Instead of:\n",
    "\n",
    "```python\n",
    "def make_employee_card(employee):\n",
    "    card = {\n",
    "        'first_name': employee['first_name'],\n",
    "        'last_name': employee['last_name'],\n",
    "        'type': 'employee',\n",
    "    }\n",
    "    \n",
    "def make_student_card(student):\n",
    "    \n",
    "```\n",
    "\n",
    "do:\n",
    "\n",
    "https://en.wikipedia.org/wiki/Copy_and_paste_programming\n"
   ]
  },
  {
   "cell_type": "markdown",
   "metadata": {
    "slideshow": {
     "slide_type": "slide"
    }
   },
   "source": [
    "## Break it Into Functions\n",
    "\n",
    "* if a functions gets to long\n",
    "* if a function does more than one thing\n",
    "\n",
    "When you find yourself commenting blocks of code:\n",
    "\n",
    "```python\n",
    "def (name):\n",
    "    \n",
    "```\n",
    "\n",
    "it's time for a function:\n",
    "\n",
    "\n"
   ]
  },
  {
   "cell_type": "markdown",
   "metadata": {
    "slideshow": {
     "slide_type": "slide"
    }
   },
   "source": [
    "## Use Dictionaries Instead of Ifs\n",
    "\n",
    "Instead of:\n",
    "\n",
    "```python\n",
    "def get_mode_name(mode):\n",
    "    if mode == 0:\n",
    "        return 'stopped'\n",
    "    elif mode == 1:\n",
    "        return 'playing'\n",
    "    elif mode == 3':\n",
    "        return 'recording':\n",
    "    else:\n",
    "        raise ValueError('Unknown mode {}'.format(mode))\n",
    "\n",
    ">>> get_mode_name(1)\n",
    "playing\n",
    "```\n",
    "\n",
    "do:\n",
    "\n",
    "```python\n",
    "MODES = {\n",
    "    0: 'mode',\n",
    "    1: 'playing',\n",
    "    3: 'recording',\n",
    "}\n",
    "\n",
    ">>> MODES[1]\n",
    "playing\n",
    "```\n"
   ]
  },
  {
   "cell_type": "markdown",
   "metadata": {
    "slideshow": {
     "slide_type": "slide"
    }
   },
   "source": [
    "## Spagetti Code\n",
    "\n",
    "![Test](images/spaghetti.svg)"
   ]
  },
  {
   "cell_type": "markdown",
   "metadata": {
    "slideshow": {
     "slide_type": "slide"
    }
   },
   "source": [
    "## Readability\n",
    "\n",
    "You spend a lot more time reading code than writing it. Spend some time making your code readable and you'll save lots of time and frustration later.\n",
    "\n",
    "* use good names\n",
    "* use [PEP-8](https://www.python.org/dev/peps/pep-0008/) as a guideline\n",
    "* add whitespace to break things up\n",
    "\n",
    "Readability leads to understanding, understanding leads to reliable programs.\n"
   ]
  },
  {
   "cell_type": "markdown",
   "metadata": {},
   "source": [
    "## Modules\n",
    "\n",
    "You've already written a module!\n",
    "\n",
    "A module is a Python file.\n",
    "A package is a directory of modules.\n",
    "A module contains functions.\n",
    "\n",
    "A module is a namespace.\n"
   ]
  },
  {
   "cell_type": "markdown",
   "metadata": {},
   "source": [
    "## Functions are Verbs\n",
    "\n",
    "Use verbs as function names:\n",
    "\n",
    "```python\n",
    "person = get_person(db, username)\n",
    "```\n",
    "\n",
    "```python\n",
    "if is_student(person):\n",
    "    # Do student specific thing.\n",
    "```\n",
    "\n"
   ]
  },
  {
   "cell_type": "markdown",
   "metadata": {},
   "source": [
    "## Naming Conventions\n",
    "\n",
    "``_underscore``.\n",
    "\n",
    "* internal to module (or object)\n",
    "* not enforced, but is a clue that it's not a part of the API\n"
   ]
  },
  {
   "cell_type": "markdown",
   "metadata": {
    "slideshow": {
     "slide_type": "slide"
    }
   },
   "source": [
    "## Don't Overuse Classes\n",
    "\n",
    "https://www.youtube.com/watch?v=o9pEzgHorH0\n",
    "\n",
    "Classes are great when you need them but:\n",
    "\n",
    "* Python is object oriented, not class oriented\n",
    "* don't use classes for everything\n",
    "* if you have a class with only one method it should be a function\n",
    "* use dictionaries instead of objects\n",
    "* use modules and packages to group related things together\n",
    "* use dyck typing\n",
    "* use embedding instead of subclassing\n",
    "* don't use a class as a name space. That's what modules are for"
   ]
  },
  {
   "cell_type": "markdown",
   "metadata": {
    "slideshow": {
     "slide_type": "slide"
    }
   },
   "source": [
    "## ``__init__.py``\n",
    "\n",
    "* is the top level module\n",
    "* should only contain imports (no code or data)\n",
    "\n",
    "Example:\n",
    "\n",
    "```python\n",
    "from .messages import Message\n",
    "from .midifile import MidiFile, MidiTrack\n",
    "from .parser import Parser, parse, parse_all\n",
    "```\n"
   ]
  },
  {
   "cell_type": "markdown",
   "metadata": {
    "slideshow": {
     "slide_type": "notes"
    }
   },
   "source": [
    "* build large programs as layers on top of layers (libraries on top of libraries)\n",
    "* a part should only know what it needs to know\n",
    "* avoid global variables (show in graph)\n",
    "* no global config or args object\n",
    "* each module is a library\n",
    "\n",
    "* no global object that you pass around everywhere\n",
    "\n",
    "(Example: program where every function uses the config object.)\n",
    "\n",
    "All imports at the top of the file (so you can see where things come from.) And what the module requires.\n",
    "\n",
    "Don't use \"from mod import *\"\n",
    "\n",
    "Spaghetti / lasagna / macaroni.\n",
    "\n",
    "A function or module should know as little as possible about the outside world.\n",
    "\n",
    "avoid magic\n",
    "\n",
    "you can test each part on its own\n",
    "\n",
    "and it's easier to move things around\n",
    "\n",
    "absolute vs. relative import\n",
    "\n",
    "You can study and test each part on its own. No need to worry about the rest of the code.\n",
    "\n",
    "I like to make things easier for myself. I can't keep that many things in my head at one time.\n",
    "\n",
    "I write little functions and test them interactively (or in automated tests).\n",
    "\n",
    "Naming things well makes the code easier to read\n",
    "If you find it hard to name a function it's probably doing more than one thing\n",
    "\n",
    "Build your programs as a bunch of little libraries.\n",
    "\n",
    "These should be layered so the bottom libraries don't have to know anything about the ones above.\n",
    "\n",
    "Make every part of the program a building block for building more program.\n",
    "\n",
    "Keep I/O in one place. (Near main().)\n",
    "\n",
    "I optimize for user happiness. (End users and programmers.)\n",
    "\n",
    "Keep your imports at the top of the file.\n",
    "\n",
    "``import x as y``, `from .mod import func`\n",
    "\n",
    "``from subprocess import check_call as run``\n"
   ]
  }
 ],
 "metadata": {
  "celltoolbar": "Slideshow",
  "kernelspec": {
   "display_name": "Python 3",
   "language": "python",
   "name": "python3"
  },
  "language_info": {
   "codemirror_mode": {
    "name": "ipython",
    "version": 3
   },
   "file_extension": ".py",
   "mimetype": "text/x-python",
   "name": "python",
   "nbconvert_exporter": "python",
   "pygments_lexer": "ipython3",
   "version": "3.4.3+"
  }
 },
 "nbformat": 4,
 "nbformat_minor": 0
}
